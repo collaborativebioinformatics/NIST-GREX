{
 "cells": [
  {
   "cell_type": "code",
   "execution_count": null,
   "id": "b6c0d09c",
   "metadata": {},
   "outputs": [],
   "source": []
  },
  {
   "cell_type": "code",
   "execution_count": 17,
   "id": "8dcdf88e",
   "metadata": {},
   "outputs": [],
   "source": [
    "import numpy as np\n",
    "import matplotlib.pyplot as plt\n",
    "\n",
    "def read_vcf_file(vcf_file_address):\n",
    "\n",
    "    \"\"\"\n",
    "    Assumption: VCF for one individual and all variants are called.  \n",
    "    \n",
    "    Reading the vcf file\n",
    "    input: vcf file\n",
    "    outputs:\n",
    "            lines_list: list of string. each string is a line of phased vcf file.\n",
    "            var_pos_list: genomic position of variants in the vcf file.\n",
    "    \"\"\"\n",
    "\n",
    "    vcf_file = open(vcf_file_address,'r')\n",
    "    lines_list=[]         \n",
    "    var_pos_list=[]  \n",
    "    \n",
    "    for line in vcf_file:\n",
    "        line_strip = line.strip()\n",
    "        lines_list.append(line_strip)\n",
    "        if line_strip.startswith('#'):\n",
    "            pass\n",
    "            #header_lines_list.append(line_strip)\n",
    "            #sample_names = line_strip.split('\\t')[9:11]            # last line of header contains sample name\n",
    "        else:\n",
    "            line_parts=line_strip.split('\\t')\n",
    "            chrom = line_parts[0]\n",
    "            var_pos = int(line_parts[1])                           # genomic position of variants\n",
    "            var_pos_list.append(var_pos)\n",
    "\n",
    "    return var_pos_list\n",
    "\n"
   ]
  },
  {
   "cell_type": "code",
   "execution_count": 18,
   "id": "e3b8ec33",
   "metadata": {},
   "outputs": [],
   "source": [
    "folder = \"/scratch/smajidi1/hac/\"\n",
    "vcf_file_address = folder+ \"hprc_chr22.vcf\"\n",
    "\n",
    "var_pos_list = read_vcf_file(vcf_file_address)\n"
   ]
  },
  {
   "cell_type": "code",
   "execution_count": 19,
   "id": "8d87c8bd",
   "metadata": {},
   "outputs": [],
   "source": [
    "diff_list = []\n",
    "for i in range(1,len(var_pos_list)):\n",
    "    diff = var_pos_list[i]-var_pos_list[i-1]\n",
    "    diff_list.append(diff)\n",
    "    "
   ]
  },
  {
   "cell_type": "code",
   "execution_count": 49,
   "id": "2ba7e833",
   "metadata": {},
   "outputs": [
    {
     "name": "stdout",
     "output_type": "stream",
     "text": [
      "98943 407.28797679448564 2512818 1\n"
     ]
    }
   ],
   "source": [
    "print(len(diff_list)+1, np.mean(diff_list), np.max(diff_list), np.min(diff_list))"
   ]
  },
  {
   "cell_type": "code",
   "execution_count": 51,
   "id": "755f35c5",
   "metadata": {},
   "outputs": [
    {
     "name": "stdout",
     "output_type": "stream",
     "text": [
      "18267 15154408 12641590\n"
     ]
    }
   ],
   "source": [
    "\n",
    "for i in range(1,len(var_pos_list)):\n",
    "    diff = var_pos_list[i]-var_pos_list[i-1]\n",
    "    if diff== 2512818:\n",
    "        print(i, var_pos_list[i],var_pos_list[i-1])\n"
   ]
  },
  {
   "cell_type": "code",
   "execution_count": null,
   "id": "db5755a7",
   "metadata": {},
   "outputs": [],
   "source": []
  },
  {
   "cell_type": "code",
   "execution_count": 47,
   "id": "31fb8c8e",
   "metadata": {},
   "outputs": [
    {
     "data": {
      "text/plain": [
       "Text(0, 0.5, '# variants')"
      ]
     },
     "execution_count": 47,
     "metadata": {},
     "output_type": "execute_result"
    },
    {
     "data": {
      "image/png": "[encoded data removed]",
      "text/plain": [
       "<Figure size 432x288 with 1 Axes>"
      ]
     },
     "metadata": {
      "needs_background": "light"
     },
     "output_type": "display_data"
    }
   ],
   "source": [
    "hist, bins = np.histogram(diff_list, bins=50)\n",
    "logbins = np.logspace(np.log10(bins[0]),np.log10(bins[-1]),len(bins))\n",
    "plt.hist(diff_list, bins=logbins)\n",
    "plt.xscale('log')\n",
    "plt.title('#Histogram of genomic distance between variants')\n",
    "plt.xlabel(\"genomice distance(bp)\")\n",
    "plt.ylabel(\"# variants\")\n"
   ]
  },
  {
   "cell_type": "code",
   "execution_count": null,
   "id": "d45d38da",
   "metadata": {},
   "outputs": [],
   "source": []
  },
  {
   "cell_type": "code",
   "execution_count": null,
   "id": "a1267df7",
   "metadata": {},
   "outputs": [],
   "source": []
  },
  {
   "cell_type": "code",
   "execution_count": null,
   "id": "668b63d4",
   "metadata": {},
   "outputs": [],
   "source": []
  }
 ],
 "metadata": {
  "kernelspec": {
   "display_name": "Python 3 (ipykernel)",
   "language": "python",
   "name": "python3"
  },
  "language_info": {
   "codemirror_mode": {
    "name": "ipython",
    "version": 3
   },
   "file_extension": ".py",
   "mimetype": "text/x-python",
   "name": "python",
   "nbconvert_exporter": "python",
   "pygments_lexer": "ipython3",
   "version": "3.8.1"
  }
 },
 "nbformat": 4,
 "nbformat_minor": 5
}
