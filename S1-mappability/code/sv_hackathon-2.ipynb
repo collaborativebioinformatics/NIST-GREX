{
 "cells": [
  {
   "cell_type": "markdown",
   "id": "f6767c73-18e4-4351-8b86-11715f927a22",
   "metadata": {},
   "source": [
    "# SV Hackathon \n",
    "### October 12, 2022\n",
    "### Current update on Oct. 12 2022\n",
    "### NIST-GREX\" Genome Regions Exploration\n"
   ]
  },
  {
   "cell_type": "markdown",
   "id": "cc28ff80-8995-4e08-9c0b-4ab1f1b02f71",
   "metadata": {},
   "source": [
    "### Starting with S1: (Updating GRCh38 resources to T2T-CHM13v2.0 reference) Generate T2T-CHM13v2.0 stratification BED file similar to what exists for GRCh38\n",
    "- Running GEM on CHRM13v.2.0\n",
    "- Testing it out first  on chr21, then maybe moving on to whole genome\n"
   ]
  },
  {
   "cell_type": "markdown",
   "id": "cee7cbf9-6cbf-45ad-ab7f-90e42f7500fa",
   "metadata": {},
   "source": [
    "### Setting up our environment and tools"
   ]
  },
  {
   "cell_type": "code",
   "execution_count": null,
   "id": "cd54e5fa-201a-43ef-912c-b442a168f00b",
   "metadata": {},
   "outputs": [],
   "source": [
    "export MAIN=/path/to/\n",
    "# This was all done on NIH's Biowulf Cluster"
   ]
  },
  {
   "cell_type": "markdown",
   "id": "114f72e6-c352-4708-a604-c623dbeedb92",
   "metadata": {},
   "source": [
    "Upload CHM13v2.0 fasta from locally downloaded source"
   ]
  },
  {
   "cell_type": "code",
   "execution_count": null,
   "id": "3c24fe5a-49f9-4dc5-9e75-4aee8fc00708",
   "metadata": {},
   "outputs": [],
   "source": [
    "# chm13v2.0.fa.gz\n",
    "# chm13v2.0.fa.gz.gzi\n"
   ]
  },
  {
   "cell_type": "markdown",
   "id": "9d81fe95-b57b-4be6-9619-48f8a3f507f9",
   "metadata": {},
   "source": [
    "Extract chr 21 for testing"
   ]
  },
  {
   "cell_type": "code",
   "execution_count": null,
   "id": "c1346565-9c39-4273-9491-2cbdae8a70a7",
   "metadata": {
    "tags": []
   },
   "outputs": [],
   "source": [
    "module load samtools\n",
    "samtools faidx chm13v2.0.fa.gz chr21 > chm13_chr21.fa.gz"
   ]
  },
  {
   "cell_type": "code",
   "execution_count": null,
   "id": "3d877311-0df5-4149-81f5-b3c84932d545",
   "metadata": {},
   "outputs": [],
   "source": [
    "samtools faidx chm13_chr21.fa.gz"
   ]
  },
  {
   "cell_type": "markdown",
   "id": "60869afa-e100-46cf-b7c8-5051ece149a5",
   "metadata": {},
   "source": [
    "Make Hackathon directory for all fasta and output files"
   ]
  },
  {
   "cell_type": "code",
   "execution_count": null,
   "id": "354875fe-65fc-4b09-822f-47b65c8ab1ee",
   "metadata": {},
   "outputs": [],
   "source": [
    "mkdir $MAIN/sv_hackathon/\n",
    "mv chm13* $MAIN/sv_hackathon/"
   ]
  },
  {
   "cell_type": "code",
   "execution_count": null,
   "id": "e663eddc-ec57-49b6-9167-c41db4c52bf3",
   "metadata": {},
   "outputs": [],
   "source": [
    "tar jxvf GEM-binaries-Linux-x86_64-core_i3-20130406-045632.tbz2"
   ]
  },
  {
   "cell_type": "markdown",
   "id": "b7be38a6-6786-431d-8d92-df8667b085e6",
   "metadata": {},
   "source": [
    "Upload and install bedops binaries"
   ]
  },
  {
   "cell_type": "code",
   "execution_count": null,
   "id": "61167bbc-6c82-435d-9640-c2a01ab44673",
   "metadata": {},
   "outputs": [],
   "source": [
    "mkdir $MAIN/bedops\n",
    "cp bin/* $MAIN/bedops/\n",
    "rm -r $MAIN/bin/"
   ]
  },
  {
   "cell_type": "markdown",
   "id": "04cd41a6-5796-4b6a-9066-e647a94073c1",
   "metadata": {},
   "source": [
    "Upload and install gem binaries"
   ]
  },
  {
   "cell_type": "code",
   "execution_count": null,
   "id": "9d5ef2d6-43a2-46dd-bddb-d9109c39b46e",
   "metadata": {
    "tags": []
   },
   "outputs": [],
   "source": [
    "tar jxvf GEM-binaries-Linux-x86_64-core_i3-20130406-045632.tbz2"
   ]
  },
  {
   "cell_type": "markdown",
   "id": "b4cd4d6a-17c6-4218-a07e-1e4a5c939636",
   "metadata": {},
   "source": [
    "All binaries and files are now in directory"
   ]
  },
  {
   "cell_type": "markdown",
   "id": "1ae00bad-18a7-43e9-92dc-386caecb24fc",
   "metadata": {},
   "source": [
    "### Time to import GEM .sh script \n",
    "https://github.com/genome-in-a-bottle/genome-stratifications/blob/master/GRCh38/mappability/run_GEM_mappability_GRCh38.sh"
   ]
  },
  {
   "cell_type": "code",
   "execution_count": null,
   "id": "1d96fba6-7876-4d55-b8e2-236f9f4841f6",
   "metadata": {},
   "outputs": [],
   "source": [
    "wget https://github.com/genome-in-a-bottle/genome-stratifications/blob/master/GRCh38/mappability/run_GEM_mappability_GRCh38.sh\n",
    "mv run_GEM_mappability_GRCh38.sh gem_mappability.sh"
   ]
  },
  {
   "cell_type": "markdown",
   "id": "18b7aa8d-84b7-4256-978c-5860ee2fa1e2",
   "metadata": {},
   "source": [
    "Run for chr21\n",
    "Run twice each time\n",
    "-l 100 -m 2 -e 1 \\\n",
    "-l 250 -m 0 -e 0 "
   ]
  },
  {
   "cell_type": "code",
   "execution_count": null,
   "id": "5eee2c69-f188-4bb9-8ee3-8127a04b9b75",
   "metadata": {
    "tags": []
   },
   "outputs": [],
   "source": [
    "sbatch gem_mappability.sh \n",
    "# Altered paths and -l -m -e directly in script"
   ]
  },
  {
   "cell_type": "code",
   "execution_count": null,
   "id": "67d67e89-518e-40b6-8d44-13ce1548b3e3",
   "metadata": {},
   "outputs": [],
   "source": [
    "Output to move forward chm13_chr21_gemmap_l100_m2_e1_uniq.bed and chm13_chr21_gemmap_l250_m0_e0_uniq.bed"
   ]
  },
  {
   "cell_type": "markdown",
   "id": "05dae4b4-100c-4b16-a396-c7949ead6ca6",
   "metadata": {},
   "source": [
    "## Need to next run the second script for union files for validation\n",
    "\n",
    "https://github.com/genome-in-a-bottle/genome-stratifications/blob/master/GRCh38/mappability/run_GEM_mappability_sort_GRCh38.sh"
   ]
  },
  {
   "cell_type": "code",
   "execution_count": null,
   "id": "31951a42-9c1a-4e19-9e16-d97db8867aed",
   "metadata": {},
   "outputs": [],
   "source": [
    "wget https://github.com/genome-in-a-bottle/genome-stratifications/blob/master/GRCh38/mappability/run_GEM_mappability_sort_GRCh38.sh\n",
    "mv run_GEM_mappability_sort_GRCh38.sh sort_union.sh"
   ]
  },
  {
   "cell_type": "code",
   "execution_count": null,
   "id": "b2f26f9a-dbc7-4ccf-82a6-79ebccf6bb0f",
   "metadata": {},
   "outputs": [],
   "source": [
    "# Create bed file from reference\n",
    "awk 'BEGIN {FS=\"\\t\"}; {print $1 FS \"0\" FS $2}' $MAIN/sv_hackathon/chm13_chr21.fa.gz.fai > $MAIN/sv_hackathon/chm13_chr21.bed\n",
    "head $MAIN/sv_hackathon/chm13_chr21.bed"
   ]
  },
  {
   "cell_type": "code",
   "execution_count": null,
   "id": "2b57377d-694b-4dcd-b311-83c9ad60bc70",
   "metadata": {},
   "outputs": [],
   "source": [
    "# Create genome file from reference\n",
    "awk '{FS=\"\\t\"};{print $1 FS $3}' $MAIN/sv_hackathon/chm13_chr21.bed > $MAIN/sv_hackathon/chm13_chr21_onlychr.genome\n",
    "head $MAIN/sv_hackathon/chm13_chr21_onlychr.genome"
   ]
  },
  {
   "cell_type": "code",
   "execution_count": null,
   "id": "c53feed5-05e1-488b-b78a-14ca822e014b",
   "metadata": {
    "tags": []
   },
   "outputs": [],
   "source": [
    "sbatch --mem=100g --cpus-per-task=4 --mail-type=ALL --time=12:00:00 sort_union.sh chm13_chr21_gemmap_l100_m2_e1_uniq.bed chm13_chr21_gemmap_l250_m0_e0_uniq.bed"
   ]
  },
  {
   "cell_type": "markdown",
   "id": "45d370d9-922c-4a8c-b264-92adbc23d4f5",
   "metadata": {},
   "source": [
    "## Run for whole genome"
   ]
  },
  {
   "cell_type": "code",
   "execution_count": null,
   "id": "f81529bc-50c7-47db-b01b-914ba165bbfc",
   "metadata": {
    "tags": []
   },
   "outputs": [],
   "source": [
    "# Remember to alter path names and stringency levels\n",
    "# Run L1-L49 (block out the rest)\n",
    "sbatch gem_mappability.sh"
   ]
  },
  {
   "cell_type": "code",
   "execution_count": null,
   "id": "332e97db-04bc-4884-85ae-c1e915a7d3f2",
   "metadata": {
    "tags": []
   },
   "outputs": [],
   "source": [
    "# Checking where each chromosome starts\n",
    "\tgrep -n \"chr1\" chm13_gemmap_l100_m2_e1_name_clean.wig | head -n 2\n",
    "\tgrep -n \"chr2\" chm13_gemmap_l100_m2_e1_name_clean.wig | head -n 2\n",
    "# Update for all chr"
   ]
  },
  {
   "cell_type": "code",
   "execution_count": null,
   "id": "ca953ef4-7e9c-4bf8-aca6-ebdfd3b0390b",
   "metadata": {},
   "outputs": [],
   "source": [
    "# Extracting chromosomes\n",
    "\tsed -n 1,5127664p chm13_gemmap_l100_m2_e1_name_clean.wig \\\n",
    "\t> chr1.wig\n",
    "\tsed -n 5127665,7917910p chm13_gemmap_l100_m2_e1_name_clean.wig \\\n",
    "\t> chr2.wig\n",
    "# Update for all chr"
   ]
  },
  {
   "cell_type": "code",
   "execution_count": null,
   "id": "b63981f7-b16e-4cbb-9329-5706c147323e",
   "metadata": {},
   "outputs": [],
   "source": [
    "# Replace chr name\n",
    "\tsed 's/chr1 CP068277.2 Homo sapiens isolate CHM13 chromosome 1/chr1/g' chr1.wig \\\n",
    "\t> chr1_name_clean.wig \n",
    "\tsed 's/chr2 CP068276.2 Homo sapiens isolate CHM13 chromosome 2/chr2/g' chr2.wig \\\n",
    "\t> chr2_name_clean.wig \n",
    "#Update for all chromosomes\n",
    "# Put all cleaned wig files together\n",
    "\tcat *_name_clean_wig > \tchm13_gemmap_l100_m2_e1_name_clean.wig"
   ]
  },
  {
   "cell_type": "code",
   "execution_count": null,
   "id": "62386085-c187-4405-9e8a-1c9ce85df815",
   "metadata": {},
   "outputs": [],
   "source": [
    "# Rerun last past of script (L54-56)\n",
    "\t## Removing additional chromosome name information from fasta - to prevent errors when generating bed file\n",
    "\t## Dependencies\n",
    "\texport PATH=$PATH:/path/to/GEM-binaries-Linux-x86_64-core_i3-20130406-045632/bin\n",
    "\texport PATH=$PATH:/path/to/bedops/bin\n",
    "\t# Base ID for that stringency level\n",
    "\tMAPBASE=chm13_gemmap_l100_m2_e1\n",
    "    \n",
    "\twig2bed -m 16G < ${MAPBASE}_name_clean.wig > ${MAPBASE}.bed\n",
    "\tawk '$5>0.9' ${MAPBASE}.bed > ${MAPBASE}_uniq.bed"
   ]
  },
  {
   "cell_type": "markdown",
   "id": "f41566e1-2571-457b-83a8-b245407fa9af",
   "metadata": {},
   "source": [
    "### Union validation script for  whole genome "
   ]
  },
  {
   "cell_type": "code",
   "execution_count": null,
   "id": "f3c42c4c-39de-4f7e-90a0-55b565b704bf",
   "metadata": {
    "tags": []
   },
   "outputs": [],
   "source": [
    "# Creating bed file from reference CHM13\n",
    "awk 'BEGIN {FS=\"\\t\"}; {print $1 FS \"0\" FS $2}' $MAIN/sv_hackathon/chm13.fa.fai > $MAIN/sv_hackathon/chm13.bed\n",
    "head $MAIN/sv_hackathon/chm13.bed"
   ]
  },
  {
   "cell_type": "code",
   "execution_count": null,
   "id": "a32c5d6e-2d22-4d10-bbec-eb4ea5b73e21",
   "metadata": {
    "tags": []
   },
   "outputs": [],
   "source": [
    "# Creating bed file from reference CHM13\n",
    "awk '{FS=\"\\t\"};{print $1 FS $3}' $MAIN/sv_hackathon/chm13.bed > $MAIN/sv_hackathon/chm13_onlychr.genome\n",
    "head $MAIN/sv_hackathon/chm13_onlychr.genome"
   ]
  },
  {
   "cell_type": "code",
   "execution_count": null,
   "id": "77ae0915-843e-4941-a5f0-24d595de6031",
   "metadata": {},
   "outputs": [],
   "source": [
    "sbatch --mem=100g --cpus-per-task=4 \\ \n",
    "\t--mail-type=ALL --time=12:00:00 sort_union.sh \\ \n",
    "\tchm13_gemmap_l100_m2_e1_uniq.bed \\ \n",
    "\tchm13_gemmap_l250_m0_e0_uniq.bed"
   ]
  },
  {
   "cell_type": "markdown",
   "id": "2ee49c8b-c3b2-4f86-879a-11da42b74e84",
   "metadata": {},
   "source": [
    "Done! "
   ]
  }
 ],
 "metadata": {
  "kernelspec": {
   "display_name": "Bash",
   "language": "bash",
   "name": "bash"
  },
  "language_info": {
   "codemirror_mode": "shell",
   "file_extension": ".sh",
   "mimetype": "text/x-sh",
   "name": "bash"
  }
 },
 "nbformat": 4,
 "nbformat_minor": 5
}
