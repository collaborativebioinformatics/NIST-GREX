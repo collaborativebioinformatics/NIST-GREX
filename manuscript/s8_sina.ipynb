{
 "cells": [
  {
   "cell_type": "code",
   "execution_count": null,
   "id": "c450cd6a",
   "metadata": {},
   "outputs": [],
   "source": [
    "import os\n",
    "import pandas as pd\n",
    "import gzip\n",
    "import numpy as np\n",
    "import matplotlib.pyplot as plt\n",
    "\n",
    "\n",
    "class S8(object):\n",
    "    def __init__(self, binsize: int = 1):\n",
    "        self.binsize = binsize  # will be set to 1 - current data only has a binsize of 10\n",
    "\n",
    "    def __get_absolute_path(self, input_path):\n",
    "        return os.path.abspath(os.path.expanduser(input_path))\n",
    "\n",
    "    def vcf_to_dataframe(self, path):\n",
    "        vcf_path = self.__get_absolute_path(path)\n",
    "        vcf_file = open(vcf_path, \"r\") if \"gz\" not in vcf_path else gzip.open(vcf_path, \"rt\")\n",
    "        line_cnt = 0\n",
    "        header_cnt = 0\n",
    "\n",
    "        result = []\n",
    "\n",
    "        for line in vcf_file:\n",
    "            if line.__contains__(\"#\"):\n",
    "                header_cnt += 1\n",
    "                continue\n",
    "            cells = line.strip().split(\"\\t\")\n",
    "            chrom_ = cells[0]\n",
    "            start_ = int(cells[1])\n",
    "            ref_ = cells[3]\n",
    "            alt_ = cells[4]\n",
    "            quality_ = float(cells[5])\n",
    "            filter_ = cells[6]\n",
    "            info_ = cells[7]\n",
    "            format_ = cells[8]\n",
    "            # sample_ = cells[9]\n",
    "            # print(start_,cells)\n",
    "            if not (ref_.__contains__(\",\") or alt_.__contains__(\",\")):\n",
    "                varient_type = \"\"\n",
    "                ins_adjust = 0\n",
    "                ref_alt_len = len(ref_) - len(alt_)\n",
    "                if ref_alt_len == 0:\n",
    "                    varient_type = \"SNV\"\n",
    "                elif ref_alt_len > 0:  # ref_ longer\n",
    "                    varient_type = \"DEL\"\n",
    "                elif ref_alt_len < 0:  # alt_ longer\n",
    "                    varient_type = \"INS\"\n",
    "                    ins_adjust = 1\n",
    "                else:\n",
    "                    print(\"error\", line)\n",
    "                    continue\n",
    "                end_ = start_ + abs(ref_alt_len - ins_adjust) + 1\n",
    "    \n",
    "                result.append([chrom_, start_, end_, varient_type])\n",
    "        return pd.DataFrame(data=result, columns=[\"chrom_\", \"start_\", \"end_\", \"var_type\"])\n",
    "\n",
    "    def get_coverage_for_variant(self, mosdepth_file: str = \"\", vcf_file: str = \"\"):\n",
    "\n",
    "        df_vcf_all_chroms = self.vcf_to_dataframe(vcf_file)\n",
    "        df_vcf_all_chroms_keys = df_vcf_all_chroms.chrom_.unique()\n",
    "\n",
    "        mosdepth_file = self.__get_absolute_path(mosdepth_file)\n",
    "        df_coverage_all = pd.read_csv(mosdepth_file, sep=\"\\t\", header=None, names=[\"chrom_\", \"start_\", \"end_\", \"cov_\"])\n",
    "        df_coverage_all_chroms_keys = df_coverage_all.chrom_.unique()\n",
    "\n",
    "        for vcf_chrom_key in df_vcf_all_chroms_keys:\n",
    "            # get subset for chrom in vcf\n",
    "            df_vcf = df_vcf_all_chroms.loc[df_vcf_all_chroms.chrom_ == vcf_chrom_key]\n",
    "\n",
    "            # check if vcf chrom key exists in mosdepth (coverage) file\n",
    "            if vcf_chrom_key in df_coverage_all_chroms_keys:\n",
    "                df_coverage = df_coverage_all.loc[df_coverage_all.chrom_ == vcf_chrom_key]\n",
    "\n",
    "                # TODO group by chrom\n",
    "                # TODO set binsize to given value\n",
    "                self.cov_list = df_coverage.cov_.tolist()  # use list instead of pandas row, index = index/binsize\n",
    "                self.cnt = 0\n",
    "\n",
    "                df_vcf[\"distance_\"] = df_vcf.apply(lambda row: int(abs(row[\"end_\"] - row[\"start_\"]) / self.binsize) + 1,\n",
    "                                                   axis=1)\n",
    "                df_vcf[\"coverage_\"] = df_vcf.apply(lambda row: self.get_mean(row[\"start_\"], row[\"distance_\"]), axis=1)\n",
    "                df_vcf[\"bingroup_\"] = df_vcf.apply(lambda row: int(((row[\"distance_\"] - 1) / 10) + 1) * 10,\n",
    "                                                   axis=1)  # calculate bp bin groups, 1-10=10, 11-20=20, ...\n",
    "        return df_vcf\n",
    "\n",
    "\n",
    "    def get_mean(self, start, distance):\n",
    "        s = int(start / self.binsize)\n",
    "        x = self.cov_list[s:s + distance]\n",
    "        tmp = np.mean(x)\n",
    "        self.cnt += 1\n",
    "        if np.isnan(tmp):\n",
    "            return 0.0\n",
    "        return tmp\n"
   ]
  },
  {
   "cell_type": "code",
   "execution_count": null,
   "id": "0d6bfa80",
   "metadata": {},
   "outputs": [],
   "source": []
  },
  {
   "cell_type": "code",
   "execution_count": null,
   "id": "484f800a",
   "metadata": {},
   "outputs": [],
   "source": []
  },
  {
   "cell_type": "code",
   "execution_count": 2,
   "id": "c26e45b7",
   "metadata": {},
   "outputs": [],
   "source": [
    "\n",
    "df = pd.DataFrame(data=[], columns=[\"a\"])\n",
    "x = df.a.mean()\n",
    "\n",
    "s8 = S8()\n"
   ]
  },
  {
   "cell_type": "code",
   "execution_count": 3,
   "id": "10ca0cd3",
   "metadata": {},
   "outputs": [],
   "source": []
  },
  {
   "cell_type": "code",
   "execution_count": null,
   "id": "02868072",
   "metadata": {},
   "outputs": [],
   "source": []
  },
  {
   "cell_type": "code",
   "execution_count": 5,
   "id": "2aa06427",
   "metadata": {},
   "outputs": [],
   "source": [
    "folder = \"/Volumes/work/FritzLab/GIAB_project/nist-grex/S8-variant-coverage/data\"\n",
    "df_vcf_chr22 = s8.get_coverage_for_variant(mosdepth_file=folder+\"/coverage_1bp_chr22.regions.bed\",\n",
    "                            vcf_file=folder+\"/HG002.hiseqx.grch38_chr22.vcf\")"
   ]
  },
  {
   "cell_type": "code",
   "execution_count": 13,
   "id": "70045242",
   "metadata": {},
   "outputs": [
    {
     "data": {
      "text/plain": [
       "340"
      ]
     },
     "execution_count": 13,
     "metadata": {},
     "output_type": "execute_result"
    }
   ],
   "source": [
    "\n",
    "cov_all_chr22 ={}\n",
    "for sv_type in df_vcf_chr22.var_type.unique():\n",
    "    df_data = df_vcf_chr22.loc[df_vcf_chr22.var_type == sv_type]\n",
    "    df_subset = df_data[[\"coverage_\", \"bingroup_\"]]\n",
    "    df_grouped = df_subset.groupby(\"bingroup_\")\n",
    "    df_mean = df_grouped.mean()\n",
    "    \n",
    "    cov_all_chr22[sv_type] ={}\n",
    "    cov_list= list(df_mean['coverage_'].values)\n",
    "    bin_list= list(df_mean.index)\n",
    "    for i, bin_ in enumerate(bin_list):\n",
    "        cov_all_chr22[sv_type][bin_]= cov_list[i]\n",
    "cov_max =0\n",
    "for svtype, cov_ in cov_all_chr22.items():\n",
    "    cov_max = max(cov_max,max(cov_.keys()))\n",
    "print(cov_max)\n",
    "\n",
    "\n",
    "cov_max=200\n",
    "bingroups = list(range(10,cov_max+1,10))\n",
    "\n",
    "cov_all_full_chr22 ={}\n",
    "for svtype, cov_ in cov_all_chr22.items():\n",
    "    cov_all_full_chr22[svtype] = [0]*int(cov_max/10+1)\n",
    "    rest=[]\n",
    "    for bin_, cov_val in cov_.items():\n",
    "        if bin_ < cov_max+1:\n",
    "            cov_all_full_chr22[svtype][int(bin_/10) -1] = cov_val\n",
    "        else:\n",
    "            rest.append(cov_val)\n",
    "        if rest:\n",
    "            cov_all_full_chr22[svtype][-1] = np.mean(rest)\n",
    "            \n",
    "cov_all_full_chr22"
   ]
  },
  {
   "cell_type": "code",
   "execution_count": null,
   "id": "ba469687",
   "metadata": {},
   "outputs": [],
   "source": []
  },
  {
   "cell_type": "code",
   "execution_count": null,
   "id": "99711d16",
   "metadata": {},
   "outputs": [],
   "source": []
  },
  {
   "cell_type": "code",
   "execution_count": null,
   "id": "b3919cef",
   "metadata": {},
   "outputs": [],
   "source": []
  },
  {
   "cell_type": "code",
   "execution_count": null,
   "id": "19c90a89",
   "metadata": {},
   "outputs": [],
   "source": []
  },
  {
   "cell_type": "code",
   "execution_count": 15,
   "id": "02120eab",
   "metadata": {},
   "outputs": [],
   "source": [
    "folder = \"/Volumes/work/FritzLab/GIAB_project/nist-grex/S8-variant-coverage/data\"\n",
    "df_vcf_chr1 = s8.get_coverage_for_variant(mosdepth_file=folder+\"/coverage_1bp_chr1.regions.bed\",\n",
    "                            vcf_file=folder+\"/HG002.hiseqx.grch38_chr1.vcf\")"
   ]
  },
  {
   "cell_type": "code",
   "execution_count": 16,
   "id": "c5e6f7fa",
   "metadata": {},
   "outputs": [
    {
     "name": "stdout",
     "output_type": "stream",
     "text": [
      "340\n"
     ]
    },
    {
     "ename": "NameError",
     "evalue": "name 'cov_all_full_chr2' is not defined",
     "output_type": "error",
     "traceback": [
      "\u001b[0;31m---------------------------------------------------------------------------\u001b[0m",
      "\u001b[0;31mNameError\u001b[0m                                 Traceback (most recent call last)",
      "Input \u001b[0;32mIn [16]\u001b[0m, in \u001b[0;36m<cell line: 34>\u001b[0;34m()\u001b[0m\n\u001b[1;32m     31\u001b[0m         \u001b[38;5;28;01mif\u001b[39;00m rest:\n\u001b[1;32m     32\u001b[0m             cov_all_full_chr1[svtype][\u001b[38;5;241m-\u001b[39m\u001b[38;5;241m1\u001b[39m] \u001b[38;5;241m=\u001b[39m np\u001b[38;5;241m.\u001b[39mmean(rest)\n\u001b[0;32m---> 34\u001b[0m \u001b[43mcov_all_full_chr2\u001b[49m\n",
      "\u001b[0;31mNameError\u001b[0m: name 'cov_all_full_chr2' is not defined"
     ]
    }
   ],
   "source": [
    "\n",
    "cov_all_chr1 ={}\n",
    "for sv_type in df_vcf_chr1.var_type.unique():\n",
    "    df_data = df_vcf_chr1.loc[df_vcf_chr1.var_type == sv_type]\n",
    "    df_subset = df_data[[\"coverage_\", \"bingroup_\"]]\n",
    "    df_grouped = df_subset.groupby(\"bingroup_\")\n",
    "    df_mean = df_grouped.mean()\n",
    "    \n",
    "    cov_all_chr1[sv_type] ={}\n",
    "    cov_list= list(df_mean['coverage_'].values)\n",
    "    bin_list= list(df_mean.index)\n",
    "    for i, bin_ in enumerate(bin_list):\n",
    "        cov_all_chr1[sv_type][bin_]= cov_list[i]\n",
    "\n",
    "cov_max =0\n",
    "for svtype, cov_ in cov_all_chr1.items():\n",
    "    cov_max = max(cov_max,max(cov_.keys()))\n",
    "print(cov_max)\n",
    "\n",
    "\n",
    "cov_max=200\n",
    "bingroups = list(range(10,cov_max+1,10))\n"
   ]
  },
  {
   "cell_type": "code",
   "execution_count": null,
   "id": "26af9a33",
   "metadata": {},
   "outputs": [],
   "source": []
  },
  {
   "cell_type": "code",
   "execution_count": 19,
   "id": "781f5894",
   "metadata": {
    "scrolled": true
   },
   "outputs": [
    {
     "data": {
      "text/plain": [
       "{'INS': [42.37170479333731,\n",
       "  42.36500137914503,\n",
       "  43.84197390361908,\n",
       "  42.117247285400765,\n",
       "  48.73898085467381,\n",
       "  53.28645908782269,\n",
       "  55.467653688103965,\n",
       "  56.74959641310693,\n",
       "  49.60005109763673,\n",
       "  56.509897296763654,\n",
       "  71.56481481481481,\n",
       "  65.0695652173913,\n",
       "  52.07692307692308,\n",
       "  0,\n",
       "  0,\n",
       "  0,\n",
       "  0,\n",
       "  0,\n",
       "  0,\n",
       "  0,\n",
       "  0],\n",
       " 'DEL': [38.28768109399349,\n",
       "  37.90614260122728,\n",
       "  46.78894847948625,\n",
       "  29.487242731914172,\n",
       "  34.187536222468275,\n",
       "  24.613290405430558,\n",
       "  26.58311436534819,\n",
       "  30.819272094963967,\n",
       "  28.520687357432084,\n",
       "  25.674938008167587,\n",
       "  24.89055993556346,\n",
       "  30.941585760234535,\n",
       "  24.216966794314764,\n",
       "  43.16668152575755,\n",
       "  38.090230816428345,\n",
       "  32.257232030554505,\n",
       "  36.97907217293094,\n",
       "  33.12529862630889,\n",
       "  36.884126533041055,\n",
       "  31.364656982077744,\n",
       "  31.726137569099592],\n",
       " 'SNV': [42.85930000996774,\n",
       "  0,\n",
       "  0,\n",
       "  0,\n",
       "  0,\n",
       "  0,\n",
       "  0,\n",
       "  0,\n",
       "  0,\n",
       "  0,\n",
       "  0,\n",
       "  0,\n",
       "  0,\n",
       "  0,\n",
       "  0,\n",
       "  0,\n",
       "  0,\n",
       "  0,\n",
       "  0,\n",
       "  0,\n",
       "  0]}"
      ]
     },
     "execution_count": 19,
     "metadata": {},
     "output_type": "execute_result"
    }
   ],
   "source": [
    "\n",
    "cov_all_full_chr1 ={}\n",
    "for svtype, cov_ in cov_all_chr1.items():\n",
    "    cov_all_full_chr1[svtype] = [0]*int(cov_max/10+1)\n",
    "    rest=[]\n",
    "    for bin_, cov_val in cov_.items():\n",
    "        if bin_ < cov_max+1:\n",
    "            cov_all_full_chr1[svtype][int(bin_/10) -1] = cov_val\n",
    "        else:\n",
    "            rest.append(cov_val)\n",
    "        if rest:\n",
    "            cov_all_full_chr1[svtype][-1] = np.mean(rest)\n",
    "            \n",
    "cov_all_full_chr1"
   ]
  },
  {
   "cell_type": "code",
   "execution_count": null,
   "id": "ed2bdff2",
   "metadata": {},
   "outputs": [],
   "source": []
  },
  {
   "cell_type": "code",
   "execution_count": null,
   "id": "9482c6d1",
   "metadata": {},
   "outputs": [],
   "source": []
  },
  {
   "cell_type": "code",
   "execution_count": 26,
   "id": "b7d45f36",
   "metadata": {},
   "outputs": [
    {
     "data": {
      "text/plain": [
       "<Figure size 1080x864 with 0 Axes>"
      ]
     },
     "metadata": {},
     "output_type": "display_data"
    },
    {
     "data": {
      "image/png": "[encoded data removed]",
      "text/plain": [
       "<Figure size 1080x432 with 2 Axes>"
      ]
     },
     "metadata": {
      "needs_background": "light"
     },
     "output_type": "display_data"
    }
   ],
   "source": [
    "bingroups_ = bingroups + [210]\n",
    "import numpy as np\n",
    "import matplotlib.pyplot as plt\n",
    "fig = plt.figure(figsize=(15,12))\n",
    "\n",
    "fig, axs = plt.subplots(ncols=2,nrows=1)\n",
    "fig.set_figheight(6)\n",
    "fig.set_figwidth(15)\n",
    "# ind = np.arange(0,12,2)\n",
    "\n",
    "#fig.suptitle('Vertically stacked subplots')\n",
    "axs[0].bar([2*i-2 for i in bingroups_], cov_all_full_chr1['SNV'] , color = '#0A284B', width = 3, edgecolor = \"black\", linewidth=0.04)\n",
    "axs[0].bar([2*i+2.5 for i in bingroups_], cov_all_full_chr1['INS'] , color = '#CF4160', width = 3, edgecolor = \"black\", linewidth=0.04)\n",
    "axs[0].bar([2*i+7 for i in bingroups_], cov_all_full_chr1['DEL'], color = '#486E76', width = 3, edgecolor = \"black\", linewidth=0.04)\n",
    "\n",
    "axs[0].set_xticks([i*2 for i in  [10,50,100,150,210]])\n",
    "axs[0].set_xticklabels( [10,50,100,150,\">200\"], fontsize=12)\n",
    "axs[0].set_xlabel(\"variant length bins\", fontsize=14)\n",
    "axs[0].set_ylabel(\"Mean coverage\", fontsize=14)\n",
    "axs[0].set_title(\"Chr1\", fontsize=14)\n",
    "#axs[0].set_xlim([2*i for i in [0.5,25]])\n",
    "axs[0].set_ylim([0,86])\n",
    "\n",
    "\n",
    "axs[1].bar([2*i-2 for i in bingroups_], cov_all_full_chr22['SNV'] , color = '#0A284B', width = 3, edgecolor = \"black\", linewidth=0.04)\n",
    "axs[1].bar([2*i+2.5 for i in bingroups_], cov_all_full_chr22['INS'] , color = '#CF4160', width = 3, edgecolor = \"black\", linewidth=0.04)\n",
    "axs[1].bar([2*i+7 for i in bingroups_], cov_all_full_chr22['DEL'], color = '#486E76', width = 3, edgecolor = \"black\", linewidth=0.04)\n",
    "\n",
    "axs[1].set_xticks([i*2 for i in  [10,50,100,150,210]])\n",
    "axs[1].set_xticklabels( [10,50,100,150,\">200\"], fontsize=12)\n",
    "axs[1].set_xlabel(\"variant length bins\", fontsize=14)\n",
    "axs[1].set_ylabel(\"Mean coverage\", fontsize=14)\n",
    "axs[1].set_title(\"Chr22\", fontsize=14)\n",
    "#axs[0].set_xlim([2*i for i in [0.5,25]])\n",
    "axs[1].set_ylim([0,86])\n",
    "\n",
    "fig.legend([\"SNV\",\"INS\",\"DEL\"], loc='upper right', bbox_to_anchor=(0.7,1.08), ncol=3, fontsize=16)# , bbox_transform=fig.transFigure , bbox_to_anchor=(1,-0.1),\n",
    "\n",
    "fig.tight_layout()\n",
    "\n",
    "plt.savefig(\"fig_output/cov_v3_.tiff\", bbox_inches='tight')"
   ]
  },
  {
   "cell_type": "code",
   "execution_count": null,
   "id": "5398627d",
   "metadata": {},
   "outputs": [],
   "source": []
  },
  {
   "cell_type": "code",
   "execution_count": null,
   "id": "7745c730",
   "metadata": {},
   "outputs": [],
   "source": []
  },
  {
   "cell_type": "code",
   "execution_count": null,
   "id": "0b3a925b",
   "metadata": {},
   "outputs": [],
   "source": []
  },
  {
   "cell_type": "markdown",
   "id": "c7901892",
   "metadata": {},
   "source": [
    "# old"
   ]
  },
  {
   "cell_type": "code",
   "execution_count": null,
   "id": "73d29339",
   "metadata": {},
   "outputs": [],
   "source": [
    "groups_dic_vals= {}\n",
    "\n",
    "bingroup_all  =[]\n",
    "sv_type_all =[]\n",
    "cov_all ={}\n",
    "for sv_type in df_vcf.var_type.unique():\n",
    "    df_data = df_vcf.loc[df_vcf.var_type == sv_type]\n",
    "    df_subset = df_data[[\"coverage_\", \"bingroup_\"]]\n",
    "    df_grouped = df_subset.groupby(\"bingroup_\")\n",
    "    df_mean = df_grouped.mean()\n",
    "    \n",
    "    cov_all[sv_type] ={}\n",
    "    cov_list= list(df_mean['coverage_'].values)\n",
    "    bin_list= list(df_mean.index)\n",
    "    for i, bin_ in enumerate(bin_list):\n",
    "        cov_all[sv_type][bin_]= cov_list[i]\n",
    "        \n",
    "    "
   ]
  },
  {
   "cell_type": "code",
   "execution_count": null,
   "id": "8a0cfdc9",
   "metadata": {},
   "outputs": [],
   "source": [
    "cov_max =0\n",
    "for svtype, cov_ in cov_all.items():\n",
    "    cov_max = max(cov_max,max(cov_.keys()))\n",
    "cov_max  "
   ]
  },
  {
   "cell_type": "code",
   "execution_count": null,
   "id": "fde05107",
   "metadata": {},
   "outputs": [],
   "source": [
    "# bingroups = list(range(10,cov_max+1,10))\n",
    "\n",
    "# cov_all_full ={}\n",
    "# for svtype, cov_ in cov_all.items():\n",
    "#     cov_all_full[svtype] =[0]*int(cov_max/10)\n",
    "#     for bin_, cov_val in cov_.items():\n",
    "#         cov_all_full[svtype][int(bin_/10) -1] = cov_val\n",
    "        \n",
    "    \n",
    "# cov_all_full['SNV']  \n",
    "\n",
    "    \n",
    "    "
   ]
  },
  {
   "cell_type": "code",
   "execution_count": null,
   "id": "2bda4848",
   "metadata": {},
   "outputs": [],
   "source": [
    "cov_all"
   ]
  },
  {
   "cell_type": "code",
   "execution_count": null,
   "id": "97d9e579",
   "metadata": {
    "scrolled": true
   },
   "outputs": [],
   "source": [
    "cov_max=200\n",
    "bingroups = list(range(10,cov_max+1,10))\n",
    "\n",
    "cov_all_full ={}\n",
    "for svtype, cov_ in cov_all.items():\n",
    "    cov_all_full[svtype] = [0]*int(cov_max/10+1)\n",
    "    rest=[]\n",
    "    for bin_, cov_val in cov_.items():\n",
    "        if bin_ < cov_max+1:\n",
    "            cov_all_full[svtype][int(bin_/10) -1] = cov_val\n",
    "        else:\n",
    "            rest.append(cov_val)\n",
    "        if rest:\n",
    "            cov_all_full[svtype][-1] = np.mean(rest)\n",
    "            \n",
    "            \n",
    "            \n",
    "\n",
    "    \n",
    "\n",
    "    \n",
    "    "
   ]
  },
  {
   "cell_type": "code",
   "execution_count": null,
   "id": "ee0e7f8f",
   "metadata": {},
   "outputs": [],
   "source": []
  },
  {
   "cell_type": "code",
   "execution_count": null,
   "id": "f42b1ae7",
   "metadata": {},
   "outputs": [],
   "source": [
    "len(cov_all_full['SNV'])"
   ]
  },
  {
   "cell_type": "code",
   "execution_count": null,
   "id": "55d22142",
   "metadata": {},
   "outputs": [],
   "source": []
  },
  {
   "cell_type": "code",
   "execution_count": null,
   "id": "1a9b88ec",
   "metadata": {},
   "outputs": [],
   "source": [
    "len([2*i+0 for i in bingroups])"
   ]
  },
  {
   "cell_type": "code",
   "execution_count": null,
   "id": "c153f32a",
   "metadata": {},
   "outputs": [],
   "source": [
    "len([2*i+0 for i in bingroups]), len(cov_all_full['SNV'])"
   ]
  },
  {
   "cell_type": "code",
   "execution_count": null,
   "id": "2b38decd",
   "metadata": {},
   "outputs": [],
   "source": [
    "bingroups_ = bingroups + [210]\n",
    "import numpy as np\n",
    "import matplotlib.pyplot as plt\n",
    "fig = plt.figure(figsize=(15,12))\n",
    "\n",
    "fig, axs = plt.subplots(ncols=2,nrows=1)\n",
    "fig.set_figheight(6)\n",
    "fig.set_figwidth(15)\n",
    "# ind = np.arange(0,12,2)\n",
    "\n",
    "#fig.suptitle('Vertically stacked subplots')\n",
    "axs[0].bar([2*i-2 for i in bingroups_], cov_all_full['SNV'] , color = '#0A284B', width = 3, edgecolor = \"black\", linewidth=0.04)\n",
    "axs[0].bar([2*i+2.5 for i in bingroups_], cov_all_full['INS'] , color = '#CF4160', width = 3, edgecolor = \"black\", linewidth=0.04)\n",
    "axs[0].bar([2*i+7 for i in bingroups_], cov_all_full['DEL'], color = '#486E76', width = 3, edgecolor = \"black\", linewidth=0.04)\n",
    "\n",
    "axs[0].set_xticks([i*2 for i in  [10,50,100,150,210]])\n",
    "axs[0].set_xticklabels( [10,50,100,150,\">200\"], fontsize=12)\n",
    "axs[0].set_xlabel(\"variant length bins\", fontsize=14)\n",
    "axs[0].set_ylabel(\"Mean coverage\", fontsize=14)\n",
    "axs[0].set_title(\"Chr22\", fontsize=14)\n",
    "#axs[0].set_xlim([2*i for i in [0.5,25]])\n",
    "\n",
    "\n",
    "\n",
    "\n",
    "\n",
    "axs[0].bar([2*i-2 for i in bingroups_], cov_all_full['SNV'] , color = '#0A284B', width = 3, edgecolor = \"black\", linewidth=0.04)\n",
    "axs[0].bar([2*i+2.5 for i in bingroups_], cov_all_full['INS'] , color = '#CF4160', width = 3, edgecolor = \"black\", linewidth=0.04)\n",
    "axs[0].bar([2*i+7 for i in bingroups_], cov_all_full['DEL'], color = '#486E76', width = 3, edgecolor = \"black\", linewidth=0.04)\n",
    "\n",
    "axs[0].set_xticks([i*2 for i in  [10,50,100,150,210]])\n",
    "axs[0].set_xticklabels( [10,50,100,150,\">200\"], fontsize=12)\n",
    "axs[0].set_xlabel(\"variant length bins\", fontsize=14)\n",
    "axs[0].set_ylabel(\"Mean coverage\", fontsize=14)\n",
    "axs[0].set_title(\"Chr22\", fontsize=14)\n",
    "#axs[0].set_xlim([2*i for i in [0.5,25]])\n",
    "\n",
    "\n",
    "fig.legend([\"SNV\",\"INS\",\"DEL\"], loc='upper right', bbox_to_anchor=(0.7,1.08), ncol=3, fontsize=16)# , bbox_transform=fig.transFigure , bbox_to_anchor=(1,-0.1),\n",
    "\n",
    "fig.tight_layout()\n",
    "\n",
    "plt.savefig(\"fig_output/cov_v2.png\", bbox_inches='tight')"
   ]
  },
  {
   "cell_type": "code",
   "execution_count": null,
   "id": "8d145c56",
   "metadata": {},
   "outputs": [],
   "source": [
    "bingroups"
   ]
  },
  {
   "cell_type": "code",
   "execution_count": null,
   "id": "c4cd5caf",
   "metadata": {},
   "outputs": [],
   "source": []
  },
  {
   "cell_type": "code",
   "execution_count": null,
   "id": "11cb0b3e",
   "metadata": {},
   "outputs": [],
   "source": [
    "for sv_type in df_vcf.var_type.unique():\n",
    "    df_data = df_vcf.loc[df_vcf.var_type == sv_type]\n",
    "    df_subset = df_data[[\"coverage_\", \"bingroup_\"]]\n",
    "    # plt.hist(data=df_subset,x=\"bingroup_\")\n",
    "    # plt.show()\n",
    "    df_grouped = df_subset.groupby(\"bingroup_\")\n",
    "    df_mean = df_grouped.mean()\n",
    "    df_mean.plot(kind=\"bar\")\n",
    "    \n",
    "    \n",
    "    \n",
    "    \n",
    "#    plt.title(f\"{chr22 average mean {str(sv_type)}\")\n",
    "#     plt.xlabel(\"binsize\")\n",
    "#     plt.ylabel(\"mean coverage\")\n",
    "#     plt.savefig(f\"./data/{vcf_chrom_key}_{sv_type}.png\")"
   ]
  },
  {
   "cell_type": "code",
   "execution_count": null,
   "id": "c5ddf567",
   "metadata": {},
   "outputs": [],
   "source": [
    "axs[0].bar([2*i+0 for i in list(range(1,25))],   cds_length_37_list,                  color = '#0A284B', width = 0.3, edgecolor = \"black\", linewidth=0.1)\n",
    "axs[0].bar([2*i+0.45 for i in list(range(1,25))],cds_length_38_list, color = '#CF4160', width = 0.3, edgecolor = \"black\", linewidth=0.1)\n",
    "axs[0].bar([2*i+0.9 for i in list(range(1,25))], cds_length_t2t_list, color = '#486E76', width = 0.3, edgecolor = \"black\", linewidth=0.1)\n"
   ]
  },
  {
   "cell_type": "code",
   "execution_count": null,
   "id": "518b1bd4",
   "metadata": {},
   "outputs": [],
   "source": []
  },
  {
   "cell_type": "code",
   "execution_count": null,
   "id": "f31e0b55",
   "metadata": {},
   "outputs": [],
   "source": [
    "for sv_type in df_vcf.var_type.unique():\n",
    "    #plt.title(f\"chr22: average mean {str(sv_type)}\")\n",
    "    #plt.xlabel(\"binsize\")\n",
    "    #plt.ylabel(\"mean coverage\")\n",
    "    #plt.show()\n",
    "    #plt.savefig(f\"./data/{vcf_chrom_key}_{sv_type}.png\")\n"
   ]
  },
  {
   "cell_type": "code",
   "execution_count": null,
   "id": "a2d1bb3a",
   "metadata": {},
   "outputs": [],
   "source": [
    "import numpy as np\n",
    "import matplotlib.pyplot as plt\n",
    "#fig = plt.figure()\n",
    "\n",
    "fig, axs = plt.subplots(ncols=2,nrows=1)\n",
    "fig.set_figheight(6)\n",
    "fig.set_figwidth(15)\n",
    "# ind = np.arange(0,12,2)\n",
    "\n",
    "#fig.suptitle('Vertically stacked subplots')\n",
    "axs[0].bar([2*i+0 for i in list(range(1,25))],   cds_length_37_list,                  color = '#0A284B', width = 0.3, edgecolor = \"black\", linewidth=0.1)\n",
    "axs[0].bar([2*i+0.45 for i in list(range(1,25))],cds_length_38_list, color = '#CF4160', width = 0.3, edgecolor = \"black\", linewidth=0.1)\n",
    "axs[0].bar([2*i+0.9 for i in list(range(1,25))], cds_length_t2t_list, color = '#486E76', width = 0.3, edgecolor = \"black\", linewidth=0.1)\n",
    "\n",
    "\n",
    "axs[0].set_xticks([i*2 for i in  [1,5,10,15,20,22,23,24]])\n",
    "axs[0].set_xticklabels( [1,5,10,15,20,22,\"X\",\"Y\"], fontsize=14)\n",
    "axs[0].set_xlabel(\"Chromsome\", fontsize=14)\n",
    "axs[0].set_ylabel(\"CDS length\", fontsize=14)\n",
    "axs[0].set_xlim([2*i for i in [0.5,25]])\n",
    "\n",
    "\n",
    "axs[1].bar([2*i+0 for i in list(range(1,25))],   cds_ratio_37,                  color = '#0A284B', width = 0.3, edgecolor = \"black\", linewidth=0.1)\n",
    "axs[1].bar([2*i+0.45 for i in list(range(1,25))],cds_ratio_38, color = '#CF4160', width = 0.3, edgecolor = \"black\", linewidth=0.1)\n",
    "axs[1].bar([2*i+0.9 for i in list(range(1,25))], cds_ratio_t2t, color = '#486E76', width = 0.3, edgecolor = \"black\", linewidth=0.1)\n",
    "\n",
    "axs[1].set_xticks([i*2 for i in  [1,5,10,15,20,22,23,24]])\n",
    "axs[1].set_xticklabels( [1,5,10,15,20,22,\"X\",\"Y\"], fontsize=14)\n",
    "axs[1].set_xlabel(\"Chromsome\", fontsize=14)\n",
    "axs[1].set_ylabel(\"CDS length/ chromosome length (%)\", fontsize=14)\n",
    "axs[1].set_xlim([2*i for i in [0.5,25]])\n"
   ]
  },
  {
   "cell_type": "code",
   "execution_count": null,
   "id": "c28cd614",
   "metadata": {},
   "outputs": [],
   "source": []
  },
  {
   "cell_type": "code",
   "execution_count": null,
   "id": "b09184eb",
   "metadata": {},
   "outputs": [],
   "source": []
  }
 ],
 "metadata": {
  "kernelspec": {
   "display_name": "Python 3",
   "language": "python",
   "name": "python3"
  },
  "language_info": {
   "codemirror_mode": {
    "name": "ipython",
    "version": 3
   },
   "file_extension": ".py",
   "mimetype": "text/x-python",
   "name": "python",
   "nbconvert_exporter": "python",
   "pygments_lexer": "ipython3",
   "version": "3.9.12"
  }
 },
 "nbformat": 4,
 "nbformat_minor": 5
}
