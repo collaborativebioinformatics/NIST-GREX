{
 "cells": [
  {
   "cell_type": "code",
   "execution_count": 1,
   "id": "a1a3fb87",
   "metadata": {},
   "outputs": [],
   "source": [
    "# downloaded from https://data.nist.gov/od/id/mds2-2499\n",
    "\n",
    "import pickle"
   ]
  },
  {
   "cell_type": "code",
   "execution_count": 2,
   "id": "1a56518e",
   "metadata": {},
   "outputs": [],
   "source": [
    "def bed2length_all(file_ad):\n",
    "    bed_all = []\n",
    "    with open(file_ad,'r') as file:\n",
    "        for line in file:\n",
    "            line_split=line.strip().split(\"\\t\")\n",
    "            # ['Y', '59033775', '59034050']\n",
    "            #chrom,start,end=line_split\n",
    "            bed_all.append(line_split)\n",
    "    chrom_list= []\n",
    "    length_all ={}\n",
    "    for rec in bed_all[1:]:\n",
    "        chrom,start,end  = rec[:3]\n",
    "        if chrom in length_all:\n",
    "            length_all[chrom] += int(end)-int(start)\n",
    "        else:\n",
    "            length_all[chrom] = int(end)-int(start)    \n",
    "    return length_all"
   ]
  },
  {
   "cell_type": "code",
   "execution_count": 3,
   "id": "fae18c47",
   "metadata": {},
   "outputs": [],
   "source": [
    "folder = \"/Volumes/work/FritzLab/GIAB_project/\"\n"
   ]
  },
  {
   "cell_type": "code",
   "execution_count": 4,
   "id": "629920de",
   "metadata": {},
   "outputs": [],
   "source": [
    "file_ad=folder+\"nistzip_GRCh37/mappability/GRCh37_lowmappabilityall.bed\"\n",
    "\n",
    "length_all_37= bed2length_all(file_ad)"
   ]
  },
  {
   "cell_type": "code",
   "execution_count": 5,
   "id": "0bb6cca6",
   "metadata": {},
   "outputs": [
    {
     "data": {
      "text/plain": [
       "24"
      ]
     },
     "execution_count": 5,
     "metadata": {},
     "output_type": "execute_result"
    }
   ],
   "source": [
    "file_ad=folder+\"nistzip_GRCh38/mappability/GRCh38_lowmappabilityall.bed\"\n",
    "\n",
    "length_all_38= bed2length_all(file_ad)\n",
    "len(length_all_38)"
   ]
  },
  {
   "cell_type": "code",
   "execution_count": null,
   "id": "5b66151e",
   "metadata": {},
   "outputs": [],
   "source": []
  },
  {
   "cell_type": "code",
   "execution_count": 6,
   "id": "fe3e23a1",
   "metadata": {},
   "outputs": [
    {
     "data": {
      "text/plain": [
       "dict_keys(['1', '2', '3', '4', '5', '6', '7', '8', '9', '10', '11', '12', '13', '14', '15', '16', '17', '18', '19', '20', '21', '22', 'X', 'Y'])"
      ]
     },
     "execution_count": 6,
     "metadata": {},
     "output_type": "execute_result"
    }
   ],
   "source": [
    "length_all_37.keys()"
   ]
  },
  {
   "cell_type": "code",
   "execution_count": 7,
   "id": "c538cbf9",
   "metadata": {},
   "outputs": [
    {
     "data": {
      "text/plain": [
       "25"
      ]
     },
     "execution_count": 7,
     "metadata": {},
     "output_type": "execute_result"
    }
   ],
   "source": [
    "file_ad=\"/Volumes/work/FritzLab/GIAB_project/nist-grex/S1-mappability/data/chm13_lowmappabilityall.bed\"\n",
    "\n",
    "length_all_t2t= bed2length_all(file_ad)\n",
    "len(length_all_t2t)"
   ]
  },
  {
   "cell_type": "code",
   "execution_count": 8,
   "id": "ee70a4f5",
   "metadata": {},
   "outputs": [
    {
     "data": {
      "text/plain": [
       "(44804938, 16650461)"
      ]
     },
     "execution_count": 8,
     "metadata": {},
     "output_type": "execute_result"
    }
   ],
   "source": [
    "length_all_t2t[\"chr9\"],length_all_38[\"chr9\"]"
   ]
  },
  {
   "cell_type": "code",
   "execution_count": null,
   "id": "498bb2f3",
   "metadata": {},
   "outputs": [],
   "source": []
  },
  {
   "cell_type": "code",
   "execution_count": 9,
   "id": "347665af",
   "metadata": {},
   "outputs": [
    {
     "data": {
      "text/plain": [
       "dict_keys(['chr1', 'chr2', 'chr3', 'chr4', 'chr5', 'chr6', 'chr7', 'chr8', 'chr9', 'chr10', 'chr11', 'chr12', 'chr13', 'chr14', 'chr15', 'chr16', 'chr17', 'chr18', 'chr19', 'chr20', 'chr21', 'chr22', 'chrX', 'chrY', 'chrM'])"
      ]
     },
     "execution_count": 9,
     "metadata": {},
     "output_type": "execute_result"
    }
   ],
   "source": [
    "length_all_t2t.keys()"
   ]
  },
  {
   "cell_type": "code",
   "execution_count": 10,
   "id": "f0437e48",
   "metadata": {},
   "outputs": [
    {
     "data": {
      "text/plain": [
       "(24, 24)"
      ]
     },
     "execution_count": 10,
     "metadata": {},
     "output_type": "execute_result"
    }
   ],
   "source": [
    "chroms= list(range(1,23))+[\"X\",\"Y\"]\n",
    "length_all_37_list = []\n",
    "length_all_38_list = []\n",
    "length_all_t2t_list = []\n",
    "for chrom in chroms:\n",
    "    length_all_37_list.append(length_all_37[str(chrom)])\n",
    "    length_all_38_list.append(length_all_38[\"chr\"+str(chrom)])\n",
    "    length_all_t2t_list.append(length_all_t2t[\"chr\"+str(chrom)])\n",
    "\n",
    "    \n",
    "len(length_all_37_list), len(chroms[:22]+[23,24])#, chroms[:22]+[23,24]"
   ]
  },
  {
   "cell_type": "code",
   "execution_count": null,
   "id": "220bc187",
   "metadata": {},
   "outputs": [],
   "source": [
    "\n",
    "with open(folder+'reference_genome_len.pickle', 'rb') as handle:\n",
    "    values = pickle.load(handle)\n",
    "(nonN_all_t2t,nonN_all_37,nonN_all_38, chroms) = values"
   ]
  },
  {
   "cell_type": "code",
   "execution_count": 163,
   "id": "ce247c59",
   "metadata": {},
   "outputs": [],
   "source": [
    "\n",
    "ratio_37= [100*length_all_37_list[i]/nonN_all_37[i] for i in range(24)]\n",
    "ratio_38= [100*length_all_38_list[i]/nonN_all_38[i] for i in range(24)]\n",
    "ratio_t2t= [100*length_all_t2t_list[i]/nonN_all_t2t[i] for i in range(24)]\n"
   ]
  },
  {
   "cell_type": "code",
   "execution_count": null,
   "id": "00804929",
   "metadata": {},
   "outputs": [],
   "source": []
  },
  {
   "cell_type": "code",
   "execution_count": 180,
   "id": "1f69fbca",
   "metadata": {},
   "outputs": [
    {
     "data": {
      "image/png": "[encoded data removed]",
      "text/plain": [
       "<Figure size 1080x432 with 2 Axes>"
      ]
     },
     "metadata": {
      "needs_background": "light"
     },
     "output_type": "display_data"
    }
   ],
   "source": [
    "import numpy as np\n",
    "import matplotlib.pyplot as plt\n",
    "#fig = plt.figure()\n",
    "\n",
    "fig, axs = plt.subplots(ncols=2,nrows=1)\n",
    "fig.set_figheight(6)\n",
    "fig.set_figwidth(15)\n",
    "# ind = np.arange(0,12,2)\n",
    "\n",
    "#fig.suptitle('Vertically stacked subplots')\n",
    "axs[0].bar([2*i+0 for i in list(range(1,25))], length_all_37_list,                  color = '#0A284B', width = 0.3, edgecolor = \"black\", linewidth=0.1)\n",
    "axs[0].bar([2*i+0.45 for i in list(range(1,25))], length_all_38_list, color = '#CF4160', width = 0.3, edgecolor = \"black\", linewidth=0.1)\n",
    "axs[0].bar([2*i+0.9 for i in list(range(1,25))], length_all_t2t_list, color = '#486E76', width = 0.3, edgecolor = \"black\", linewidth=0.1)\n",
    "\n",
    "\n",
    "axs[0].set_xticks([i*2 for i in  [1,5,10,15,20,22,23,24]])\n",
    "axs[0].set_xticklabels( [1,5,10,15,20,22,\"X\",\"Y\"], fontsize=14)\n",
    "axs[0].set_xlabel(\"Chromsome\", fontsize=14)\n",
    "axs[0].set_ylabel(\"Low mappability length\", fontsize=14)\n",
    "axs[0].set_xlim([2*i for i in [0.5,25]])\n",
    "\n",
    "\n",
    "axs[1].bar([2*i+0 for i in list(range(1,25))], ratio_37,                  color = '#0A284B', width = 0.3, edgecolor = \"black\", linewidth=0.1)\n",
    "axs[1].bar([2*i+0.45 for i in list(range(1,25))], ratio_38, color = '#CF4160', width = 0.3, edgecolor = \"black\", linewidth=0.1)\n",
    "axs[1].bar([2*i+0.9 for i in list(range(1,25))], ratio_t2t, color = '#486E76', width = 0.3, edgecolor = \"black\", linewidth=0.1)\n",
    "\n",
    "axs[1].set_xticks([i*2 for i in  [1,5,10,15,20,22,23,24]])\n",
    "axs[1].set_xticklabels( [1,5,10,15,20,22,\"X\",\"Y\"], fontsize=14)\n",
    "axs[1].set_xlabel(\"Chromsome\", fontsize=14)\n",
    "axs[1].set_ylabel(\"Low mappability length/ chromosome length (%)\", fontsize=14)\n",
    "axs[1].set_xlim([2*i for i in [0.5,25]])\n",
    "\n",
    "\n",
    "\n",
    "#ax = fig.add_axes([0,0,1,1])\n",
    "\n",
    "# '#377eb8', '#ff7f00', '#4daf4a', '#f781bf', '#e41a1c',  '#a65628'\n",
    "#ax.bar(chroms[:22]+[23,24], length_all_37_list, color = '#ece7f2', width = 0.25, label=\"GRCh37\", edgecolor = \"grey\")\n",
    "#axs[0].bar([i+0.25 for i in chroms[:22]+[23,24]], length_all_38_list, color = '#a6bddb', width = 0.25, label=\"GRCh38\", edgecolor = \"grey\")\n",
    "#axs[0].bar([i+0.5 for i in chroms[:22]+[23,24]], length_all_t2t_list, color = '#2b8cbe', width = 0.25, label=\"T2T-chm13\", edgecolor = \"grey\")\n",
    "\n",
    "# axs[0]..legend()\n",
    "fig.legend([\"GRCh37\",\"GRCh38\",\"T2T\"], loc='upper right', bbox_to_anchor=(0.7,1.05), ncol=3, fontsize=16)# , bbox_transform=fig.transFigure , bbox_to_anchor=(1,-0.1),\n",
    "fig.tight_layout() \n",
    "\n",
    "# #ax.bar(X + 0.25, data[1], color = 'g', width = 0.25)\n",
    "\n",
    "plt.savefig(\"fig_output/low_mapp_v4_.tiff\", bbox_inches='tight')\n"
   ]
  },
  {
   "cell_type": "code",
   "execution_count": null,
   "id": "218ef1e3",
   "metadata": {},
   "outputs": [],
   "source": []
  },
  {
   "cell_type": "markdown",
   "id": "c6621ccf",
   "metadata": {},
   "source": [
    "## CDS"
   ]
  },
  {
   "cell_type": "code",
   "execution_count": 176,
   "id": "8a849928",
   "metadata": {},
   "outputs": [],
   "source": [
    "file_ad= folder+ \"nistzip_GRCh37/FunctionalRegions/GRCh37_refseq_cds.bed\"\n",
    "cds_length_37= bed2length_all(file_ad)\n",
    "\n",
    "file_ad= folder+ \"nistzip_GRCh38/FunctionalRegions/GRCh38_refseq_cds.bed\"\n",
    "cds_length_38= bed2length_all(file_ad)\n",
    "\n",
    "\n",
    "file_ad= \"/Volumes/work/FritzLab/GIAB_project/nist-grex/S3-gene-coding/data/T2T-CHM13v2.0_refseq_cds_merged.bed\"\n",
    "cds_length_t2t= bed2length_all(file_ad)\n",
    "\n",
    "\n",
    "chroms= list(range(1,23))+[\"X\",\"Y\"]\n",
    "cds_length_37_list = []\n",
    "cds_length_38_list = []\n",
    "cds_length_t2t_list = []\n",
    "for chrom in chroms:\n",
    "    cds_length_37_list.append(cds_length_37[str(chrom)])\n",
    "    cds_length_38_list.append(cds_length_38[\"chr\"+str(chrom)])\n",
    "    cds_length_t2t_list.append(cds_length_t2t[str(chrom)])\n",
    "\n",
    "    \n",
    "len(cds_length_37_list), len(chroms[:22]+[23,24])#, chroms[:22]+[23,24]\n",
    "\n",
    "\n",
    "cds_ratio_37=  [100* cds_length_37_list[i]/nonN_all_37[i]   for i in range(24)]\n",
    "cds_ratio_38=  [100* cds_length_38_list[i]/nonN_all_38[i]   for i in range(24)]\n",
    "cds_ratio_t2t= [100* cds_length_t2t_list[i]/nonN_all_t2t[i] for i in range(24)]\n"
   ]
  },
  {
   "cell_type": "code",
   "execution_count": 189,
   "id": "15d45866",
   "metadata": {},
   "outputs": [
    {
     "data": {
      "image/png": "[encoded data removed]",
      "text/plain": [
       "<Figure size 1080x432 with 2 Axes>"
      ]
     },
     "metadata": {
      "needs_background": "light"
     },
     "output_type": "display_data"
    }
   ],
   "source": [
    "import numpy as np\n",
    "import matplotlib.pyplot as plt\n",
    "#fig = plt.figure()\n",
    "\n",
    "fig, axs = plt.subplots(ncols=2,nrows=1)\n",
    "fig.set_figheight(6)\n",
    "fig.set_figwidth(15)\n",
    "# ind = np.arange(0,12,2)\n",
    "\n",
    "#fig.suptitle('Vertically stacked subplots')\n",
    "axs[0].bar([2*i+0 for i in list(range(1,25))],   cds_length_37_list,                  color = '#0A284B', width = 0.3, edgecolor = \"black\", linewidth=0.1)\n",
    "axs[0].bar([2*i+0.45 for i in list(range(1,25))],cds_length_38_list, color = '#CF4160', width = 0.3, edgecolor = \"black\", linewidth=0.1)\n",
    "axs[0].bar([2*i+0.9 for i in list(range(1,25))], cds_length_t2t_list, color = '#486E76', width = 0.3, edgecolor = \"black\", linewidth=0.1)\n",
    "\n",
    "\n",
    "axs[0].set_xticks([i*2 for i in  [1,5,10,15,20,22,23,24]])\n",
    "axs[0].set_xticklabels( [1,5,10,15,20,22,\"X\",\"Y\"], fontsize=14)\n",
    "axs[0].set_xlabel(\"Chromsome\", fontsize=14)\n",
    "axs[0].set_ylabel(\"CDS length\", fontsize=14)\n",
    "axs[0].set_xlim([2*i for i in [0.5,25]])\n",
    "\n",
    "\n",
    "axs[1].bar([2*i+0 for i in list(range(1,25))],   cds_ratio_37,                  color = '#0A284B', width = 0.3, edgecolor = \"black\", linewidth=0.1)\n",
    "axs[1].bar([2*i+0.45 for i in list(range(1,25))],cds_ratio_38, color = '#CF4160', width = 0.3, edgecolor = \"black\", linewidth=0.1)\n",
    "axs[1].bar([2*i+0.9 for i in list(range(1,25))], cds_ratio_t2t, color = '#486E76', width = 0.3, edgecolor = \"black\", linewidth=0.1)\n",
    "\n",
    "axs[1].set_xticks([i*2 for i in  [1,5,10,15,20,22,23,24]])\n",
    "axs[1].set_xticklabels( [1,5,10,15,20,22,\"X\",\"Y\"], fontsize=14)\n",
    "axs[1].set_xlabel(\"Chromsome\", fontsize=14)\n",
    "axs[1].set_ylabel(\"CDS length/ chromosome length (%)\", fontsize=14)\n",
    "axs[1].set_xlim([2*i for i in [0.5,25]])\n",
    "\n",
    "\n",
    "\n",
    "#ax = fig.add_axes([0,0,1,1])\n",
    "\n",
    "# '#377eb8', '#ff7f00', '#4daf4a', '#f781bf', '#e41a1c',  '#a65628'\n",
    "#ax.bar(chroms[:22]+[23,24], length_all_37_list, color = '#ece7f2', width = 0.25, label=\"GRCh37\", edgecolor = \"grey\")\n",
    "#axs[0].bar([i+0.25 for i in chroms[:22]+[23,24]], length_all_38_list, color = '#a6bddb', width = 0.25, label=\"GRCh38\", edgecolor = \"grey\")\n",
    "#axs[0].bar([i+0.5 for i in chroms[:22]+[23,24]], length_all_t2t_list, color = '#2b8cbe', width = 0.25, label=\"T2T-chm13\", edgecolor = \"grey\")\n",
    "\n",
    "# axs[0]..legend()\n",
    "fig.legend([\"GRCh37\",\"GRCh38\",\"T2T\"], loc='upper right', bbox_to_anchor=(0.7,1.05), ncol=3, fontsize=16)# , bbox_transform=fig.transFigure , bbox_to_anchor=(1,-0.1),\n",
    "fig.tight_layout() \n",
    "\n",
    "# #ax.bar(X + 0.25, data[1], color = 'g', width = 0.25)\n",
    "\n",
    "plt.savefig(\"fig_output/cds_v4_.tiff\", bbox_inches='tight')\n"
   ]
  },
  {
   "cell_type": "code",
   "execution_count": 199,
   "id": "0c3b8394",
   "metadata": {},
   "outputs": [
    {
     "data": {
      "text/plain": [
       "(24, 24)"
      ]
     },
     "execution_count": 199,
     "metadata": {},
     "output_type": "execute_result"
    }
   ],
   "source": [
    "len([2*i+0 for i in list(range(1,25))]),len(cds_length_37_list)"
   ]
  },
  {
   "cell_type": "markdown",
   "id": "a32fd18e",
   "metadata": {},
   "source": [
    "## GC "
   ]
  },
  {
   "cell_type": "code",
   "execution_count": 209,
   "id": "ae5f619a",
   "metadata": {},
   "outputs": [
    {
     "data": {
      "text/plain": [
       "23"
      ]
     },
     "execution_count": 209,
     "metadata": {},
     "output_type": "execute_result"
    }
   ],
   "source": [
    "file_ad= \"/Volumes/work/FritzLab/GIAB_project/gc_out/CHM13_l100_gc85_slop50.bed\"\n",
    "gc= bed2length_all(file_ad)\n",
    "file_ad= \"/Volumes/work/FritzLab/GIAB_project/nistzip_GRCh37/GCcontent/GRCh37_gc85_slop50.bed\"\n",
    "gc_37= bed2length_all(file_ad)\n",
    "file_ad= \"/Volumes/work/FritzLab/GIAB_project/nistzip_GRCh38/GCcontent/GRCh38_gc85_slop50.bed\"\n",
    "gc_38= bed2length_all(file_ad)\n",
    "\n",
    "chroms= list(range(1,23))+[\"X\"] # ,\"Y\"]\n",
    "gc_t2t_list = []\n",
    "gc_37_list = []\n",
    "gc_38_list = []\n",
    "\n",
    "for chrom in chroms:\n",
    "    gc_t2t_list.append(gc[\"chr\"+str(chrom)])\n",
    "    gc_37_list.append(gc_37[str(chrom)])\n",
    "    gc_38_list.append(gc_38[\"chr\"+str(chrom)])\n",
    "\n",
    "    \n",
    "\n",
    "\n",
    "gc_ratio_37=  [100* gc_37_list[i]/nonN_all_37[i]   for i in range(23)] # no chr Y\n",
    "gc_ratio_38=  [100* gc_38_list[i]/nonN_all_38[i]   for i in range(23)] # no chr Y\n",
    "gc_ratio_t2t = [100* gc_t2t_list[i]/nonN_all_t2t[i] for i in range(23)] # no chr Y\n",
    "len(gc_38_list)\n"
   ]
  },
  {
   "cell_type": "code",
   "execution_count": 210,
   "id": "dfdc9bd7",
   "metadata": {},
   "outputs": [
    {
     "data": {
      "text/plain": [
       "23"
      ]
     },
     "execution_count": 210,
     "metadata": {},
     "output_type": "execute_result"
    }
   ],
   "source": [
    "\n",
    "\n",
    "file_ad= \"/Volumes/work/FritzLab/GIAB_project/gc_out/CHM13_l100_gc20to25_slop50.bed\"\n",
    "gc= bed2length_all(file_ad)\n",
    "file_ad= \"/Volumes/work/FritzLab/GIAB_project/nistzip_GRCh37/GCcontent/GRCh37_gc20to25_slop50.bed\"\n",
    "gc_37= bed2length_all(file_ad)\n",
    "file_ad= \"/Volumes/work/FritzLab/GIAB_project/nistzip_GRCh38/GCcontent/GRCh38_gc20to25_slop50.bed\"\n",
    "gc_38= bed2length_all(file_ad)\n",
    "\n",
    "chroms= list(range(1,23))+[\"X\"] # ,\"Y\"]\n",
    "gc_t2t_list_2 = []\n",
    "gc_37_list_2 = []\n",
    "gc_38_list_2 = []\n",
    "\n",
    "for chrom in chroms:\n",
    "    gc_t2t_list_2.append(gc[\"chr\"+str(chrom)])\n",
    "    gc_37_list_2.append(gc_37[str(chrom)])\n",
    "    gc_38_list_2.append(gc_38[\"chr\"+str(chrom)])\n",
    "\n",
    "    \n",
    "\n",
    "\n",
    "\n",
    "gc_ratio_37_2=  [100* gc_37_list_2[i]/nonN_all_37[i]   for i in range(23)] # no chr Y\n",
    "gc_ratio_38_2=  [100* gc_38_list_2[i]/nonN_all_38[i]   for i in range(23)] # no chr Y\n",
    "gc_ratio_t2t_2=  [100* gc_t2t_list_2[i]/nonN_all_t2t[i] for i in range(23)] # no chr Y\n",
    "len(gc_38_list_2)"
   ]
  },
  {
   "cell_type": "code",
   "execution_count": null,
   "id": "c079ab50",
   "metadata": {},
   "outputs": [],
   "source": []
  },
  {
   "cell_type": "code",
   "execution_count": null,
   "id": "bfb151e8",
   "metadata": {},
   "outputs": [],
   "source": []
  },
  {
   "cell_type": "code",
   "execution_count": null,
   "id": "18ae9d24",
   "metadata": {},
   "outputs": [],
   "source": []
  },
  {
   "cell_type": "code",
   "execution_count": 201,
   "id": "45c004fd",
   "metadata": {},
   "outputs": [
    {
     "data": {
      "text/plain": [
       "24"
      ]
     },
     "execution_count": 201,
     "metadata": {},
     "output_type": "execute_result"
    }
   ],
   "source": [
    "len(cds_length_37_list)"
   ]
  },
  {
   "cell_type": "code",
   "execution_count": 224,
   "id": "0dedff5d",
   "metadata": {},
   "outputs": [
    {
     "data": {
      "image/png": "[encoded data removed]",
      "text/plain": [
       "<Figure size 1080x720 with 4 Axes>"
      ]
     },
     "metadata": {
      "needs_background": "light"
     },
     "output_type": "display_data"
    }
   ],
   "source": [
    "import numpy as np\n",
    "import matplotlib.pyplot as plt\n",
    "#fig = plt.figure()\n",
    "\n",
    "fig, axs = plt.subplots(ncols=2,nrows=2)\n",
    "fig.set_figheight(10)\n",
    "fig.set_figwidth(15)\n",
    "# ind = np.arange(0,12,2)\n",
    "\n",
    "#fig.suptitle('Vertically stacked subplots')\n",
    "axs[0,0].bar([2*i+0 for i in list(range(1,24))],   gc_37_list,                  color = '#0A284B', width = 0.3, edgecolor = \"black\", linewidth=0.1)\n",
    "axs[0,0].bar([2*i+0.45 for i in list(range(1,24))],gc_38_list, color = '#CF4160', width = 0.3, edgecolor = \"black\", linewidth=0.1)\n",
    "axs[0,0].bar([2*i+0.9 for i in list(range(1,24))], gc_t2t_list, color = '#486E76', width = 0.3, edgecolor = \"black\", linewidth=0.1)\n",
    "\n",
    "axs[0,0].set_xticks([i*2 for i in  [1,5,10,15,20,22,23]])\n",
    "axs[0,0].set_xticklabels( [1,5,10,15,20,22,\"X\"], fontsize=14)\n",
    "axs[0,0].set_xlabel(\"Chromsome\", fontsize=14)\n",
    "axs[0,0].set_ylabel(\"GC (>85%) length\", fontsize=14)\n",
    "axs[0,0].set_xlim([2*i for i in [0.5,23]])\n",
    "\n",
    "axs[0,1].bar([2*i+0 for i in list(range(1,24))],   gc_ratio_37,                  color = '#0A284B', width = 0.3, edgecolor = \"black\", linewidth=0.1)\n",
    "axs[0,1].bar([2*i+0.45 for i in list(range(1,24))],gc_ratio_38, color = '#CF4160', width = 0.3, edgecolor = \"black\", linewidth=0.1)\n",
    "axs[0,1].bar([2*i+0.9 for i in list(range(1,24))], gc_ratio_t2t, color = '#486E76', width = 0.3, edgecolor = \"black\", linewidth=0.1)\n",
    "\n",
    "axs[0,1].set_xticks([i*2 for i in  [1,5,10,15,20,22,23]])\n",
    "axs[0,1].set_xticklabels( [1,5,10,15,20,22,\"X\"], fontsize=14)\n",
    "axs[0,1].set_xlabel(\"Chromsome\", fontsize=14)\n",
    "axs[0,1].set_ylabel(\"GC (>85%) length/ chromosome length (%)\", fontsize=14)\n",
    "axs[0,1].set_xlim([2*i for i in [0.5,24]])\n",
    "\n",
    "\n",
    "\n",
    "\n",
    "#fig.suptitle('Vertically stacked subplots')\n",
    "axs[1,0].bar([2*i+0 for i in list(range(1,24))],   gc_37_list_2,                  color = '#0A284B', width = 0.3, edgecolor = \"black\", linewidth=0.1)\n",
    "axs[1,0].bar([2*i+0.45 for i in list(range(1,24))],gc_38_list_2, color = '#CF4160', width = 0.3, edgecolor = \"black\", linewidth=0.1)\n",
    "axs[1,0].bar([2*i+0.9 for i in list(range(1,24))], gc_t2t_list_2, color = '#486E76', width = 0.3, edgecolor = \"black\", linewidth=0.1)\n",
    "\n",
    "axs[1,0].set_xticks([i*2 for i in  [1,5,10,15,20,22,23]])\n",
    "axs[1,0].set_xticklabels( [1,5,10,15,20,22,\"X\"], fontsize=14)\n",
    "axs[1,0].set_xlabel(\"Chromsome\", fontsize=14)\n",
    "axs[1,0].set_ylabel(\"GC (20-25%) length\", fontsize=14)\n",
    "axs[1,0].set_xlim([2*i for i in [0.5,24]])\n",
    "\n",
    "axs[1,1].bar([2*i+0 for i in list(range(1,24))],   gc_ratio_37_2,                  color = '#0A284B', width = 0.3, edgecolor = \"black\", linewidth=0.1)\n",
    "axs[1,1].bar([2*i+0.45 for i in list(range(1,24))],gc_ratio_38_2, color = '#CF4160', width = 0.3, edgecolor = \"black\", linewidth=0.1)\n",
    "axs[1,1].bar([2*i+0.9 for i in list(range(1,24))], gc_ratio_t2t_2, color = '#486E76', width = 0.3, edgecolor = \"black\", linewidth=0.1)\n",
    "\n",
    "axs[1,1].set_xticks([i*2 for i in  [1,5,10,15,20,22,23]])\n",
    "axs[1,1].set_xticklabels( [1,5,10,15,20,22,\"X\"], fontsize=14)\n",
    "axs[1,1].set_xlabel(\"Chromsome\", fontsize=14)\n",
    "axs[1,1].set_ylabel(\"GC (20-25%) length/ chromosome length (%)\", fontsize=14)\n",
    "axs[1,1].set_xlim([2*i for i in [0.5,24]])\n",
    "\n",
    "\n",
    "\n",
    "# #ax = fig.add_axes([0,0,1,1])\n",
    "# '#377eb8', '#ff7f00', '#4daf4a', '#f781bf', '#e41a1c',  '#a65628'\n",
    "#ax.bar(chroms[:22]+[23,24], length_all_37_list, color = '#ece7f2', width = 0.25, label=\"GRCh37\", edgecolor = \"grey\")\n",
    "#axs[0].bar([i+0.25 for i in chroms[:22]+[23,24]], length_all_38_list, color = '#a6bddb', width = 0.25, label=\"GRCh38\", edgecolor = \"grey\")\n",
    "#axs[0].bar([i+0.5 for i in chroms[:22]+[23,24]], length_all_t2t_list, color = '#2b8cbe', width = 0.25, label=\"T2T-chm13\", edgecolor = \"grey\")\n",
    "\n",
    "# axs[0]..legend()\n",
    "fig.legend([\"GRCh37\",\"GRCh38\",\"T2T\"], loc='upper right', bbox_to_anchor=(0.7,1.09), ncol=3, fontsize=16)# , bbox_transform=fig.transFigure , bbox_to_anchor=(1,-0.1),\n",
    "fig.tight_layout() \n",
    "\n",
    "#ax.bar(X + 0.25, data[1], color = 'g', width = 0.25)\n",
    "plt.savefig(\"fig_output/gc_v4_.tiff\", bbox_inches='tight')\n"
   ]
  },
  {
   "cell_type": "code",
   "execution_count": null,
   "id": "33cf8c0e",
   "metadata": {},
   "outputs": [],
   "source": [
    "\n"
   ]
  },
  {
   "cell_type": "code",
   "execution_count": null,
   "id": "44f9d237",
   "metadata": {},
   "outputs": [],
   "source": []
  },
  {
   "cell_type": "code",
   "execution_count": null,
   "id": "b3c7549d",
   "metadata": {},
   "outputs": [],
   "source": []
  },
  {
   "cell_type": "markdown",
   "id": "e419794a",
   "metadata": {},
   "source": [
    "## genomic distance\n",
    "\n",
    "s7-sina_hackaton_v1_b"
   ]
  },
  {
   "cell_type": "code",
   "execution_count": null,
   "id": "5ec5098a",
   "metadata": {},
   "outputs": [],
   "source": []
  },
  {
   "cell_type": "code",
   "execution_count": null,
   "id": "faeb107f",
   "metadata": {
    "scrolled": true
   },
   "outputs": [],
   "source": []
  },
  {
   "cell_type": "code",
   "execution_count": null,
   "id": "18d13da6",
   "metadata": {},
   "outputs": [],
   "source": []
  },
  {
   "cell_type": "code",
   "execution_count": null,
   "id": "debd0714",
   "metadata": {},
   "outputs": [],
   "source": []
  },
  {
   "cell_type": "code",
   "execution_count": null,
   "id": "65bfbe75",
   "metadata": {},
   "outputs": [],
   "source": []
  },
  {
   "cell_type": "markdown",
   "id": "fb88787c",
   "metadata": {},
   "source": [
    "# reference genome length"
   ]
  },
  {
   "cell_type": "code",
   "execution_count": 13,
   "id": "134b3fcf",
   "metadata": {},
   "outputs": [
    {
     "data": {
      "text/plain": [
       "'chr1'"
      ]
     },
     "execution_count": 13,
     "metadata": {},
     "output_type": "execute_result"
    }
   ],
   "source": [
    "from Bio import SeqIO\n",
    "folder = \"/Volumes/work/FritzLab/GIAB_project/\"\n",
    "\n",
    "records_37 = list(SeqIO.parse(folder+\"hg37.fa\", \"fasta\"))\n",
    "records_37[0].id"
   ]
  },
  {
   "cell_type": "code",
   "execution_count": 30,
   "id": "50425152",
   "metadata": {},
   "outputs": [
    {
     "name": "stdout",
     "output_type": "stream",
     "text": [
      "chr13\n"
     ]
    }
   ],
   "source": [
    "from Bio import SeqIO\n",
    "\n",
    "records_37 = list(SeqIO.parse(folder+\"chm13v2.0_chr13.fa\", \"fasta\"))\n",
    "records_37[0].id\n",
    "\n",
    "from collections import Counter\n",
    "\n",
    "for chrom in [\"chr13\"]:\n",
    "    for i in range(len(records_37)):\n",
    "        if records_37[i].id == chrom:\n",
    "            print(chrom)\n",
    "            rec= records_37[i].seq\n",
    "            break\n",
    "\n",
    "collection = Counter(rec)"
   ]
  },
  {
   "cell_type": "code",
   "execution_count": 32,
   "id": "c569182a",
   "metadata": {},
   "outputs": [
    {
     "data": {
      "text/plain": [
       "Counter({'c': 13425883,\n",
       "         't': 21949057,\n",
       "         'a': 22344027,\n",
       "         'g': 12633131,\n",
       "         'A': 12820642,\n",
       "         'C': 8741090,\n",
       "         'G': 8719223,\n",
       "         'T': 12933633})"
      ]
     },
     "execution_count": 32,
     "metadata": {},
     "output_type": "execute_result"
    }
   ],
   "source": [
    "# add 50bp on each side to get \"200bp regions in which middle 100bp contains >x% GC\n",
    "collection"
   ]
  },
  {
   "cell_type": "code",
   "execution_count": 31,
   "id": "7d1bb9f4",
   "metadata": {},
   "outputs": [
    {
     "data": {
      "text/plain": [
       "113566686"
      ]
     },
     "execution_count": 31,
     "metadata": {},
     "output_type": "execute_result"
    }
   ],
   "source": [
    "collection[\"a\"]+collection[\"t\"]+collection[\"c\"]+collection[\"g\"]+collection[\"A\"]+collection[\"T\"]+collection[\"C\"]+collection[\"G\"]\n"
   ]
  },
  {
   "cell_type": "code",
   "execution_count": 27,
   "id": "bf7d075f",
   "metadata": {},
   "outputs": [
    {
     "data": {
      "text/plain": [
       "Counter({'N': 16381200,\n",
       "         'A': 15663586,\n",
       "         'G': 9198250,\n",
       "         'c': 9638494,\n",
       "         'a': 14384025,\n",
       "         't': 14444564,\n",
       "         'g': 9735355,\n",
       "         'C': 9200698,\n",
       "         'T': 15718153,\n",
       "         'n': 3})"
      ]
     },
     "execution_count": 27,
     "metadata": {},
     "output_type": "execute_result"
    }
   ],
   "source": [
    "collection"
   ]
  },
  {
   "cell_type": "code",
   "execution_count": null,
   "id": "ef31a8ce",
   "metadata": {},
   "outputs": [],
   "source": [
    "nonN_all_37=[]\n",
    "chrom_all_37=[]\n",
    "\n",
    "chroms= [\"chr\"+str(i) for i in range(1,23)]+[\"chrX\",\"chrY\"]\n",
    "for chrom in chroms:\n",
    "    for i in range(len(records_37)):\n",
    "        if records_37[i].id == chrom:\n",
    "            print(chrom)\n",
    "            rec= records_37[i].seq\n",
    "            collection = Counter(rec)\n",
    "            nonN=collection[\"a\"]+collection[\"t\"]+collection[\"c\"]+collection[\"g\"]+collection[\"A\"]+collection[\"T\"]+collection[\"C\"]+collection[\"G\"]\n",
    "            nonN_all_37.append(nonN)\n",
    "            break            \n",
    "\n"
   ]
  },
  {
   "cell_type": "code",
   "execution_count": null,
   "id": "1e5cd63d",
   "metadata": {},
   "outputs": [],
   "source": []
  },
  {
   "cell_type": "code",
   "execution_count": null,
   "id": "1739b889",
   "metadata": {},
   "outputs": [],
   "source": []
  },
  {
   "cell_type": "code",
   "execution_count": 27,
   "id": "00d43e12",
   "metadata": {},
   "outputs": [],
   "source": [
    "\n",
    "from collections import Counter\n"
   ]
  },
  {
   "cell_type": "code",
   "execution_count": 28,
   "id": "f443f5a0",
   "metadata": {
    "scrolled": true
   },
   "outputs": [
    {
     "name": "stdout",
     "output_type": "stream",
     "text": [
      "chr1\n",
      "chr2\n",
      "chr3\n",
      "chr4\n",
      "chr5\n",
      "chr6\n",
      "chr7\n",
      "chr8\n",
      "chr9\n",
      "chr10\n",
      "chr11\n",
      "chr12\n",
      "chr13\n",
      "chr14\n",
      "chr15\n",
      "chr16\n",
      "chr17\n",
      "chr18\n",
      "chr19\n",
      "chr20\n",
      "chr21\n",
      "chr22\n",
      "chrX\n",
      "chrY\n"
     ]
    }
   ],
   "source": [
    "nonN_all_37=[]\n",
    "chrom_all_37=[]\n",
    "\n",
    "chroms= [\"chr\"+str(i) for i in range(1,23)]+[\"chrX\",\"chrY\"]\n",
    "for chrom in chroms:\n",
    "    for i in range(len(records_37)):\n",
    "        if records_37[i].id == chrom:\n",
    "            print(chrom)\n",
    "            rec= records_37[i].seq\n",
    "            collection = Counter(rec)\n",
    "            nonN=collection[\"a\"]+collection[\"t\"]+collection[\"c\"]+collection[\"g\"]+collection[\"A\"]+collection[\"T\"]+collection[\"C\"]+collection[\"G\"]\n",
    "            nonN_all_37.append(nonN)\n",
    "            break            \n",
    "\n"
   ]
  },
  {
   "cell_type": "code",
   "execution_count": 29,
   "id": "57d3fa26",
   "metadata": {},
   "outputs": [],
   "source": [
    "from Bio import SeqIO\n",
    "folder = \"/Volumes/work/FritzLab/GIAB_project/\"\n",
    "records_38 = list(SeqIO.parse(folder+\"hg38.fa\", \"fasta\"))"
   ]
  },
  {
   "cell_type": "code",
   "execution_count": 30,
   "id": "a33ca9d8",
   "metadata": {
    "scrolled": true
   },
   "outputs": [
    {
     "name": "stdout",
     "output_type": "stream",
     "text": [
      "chr1\n",
      "chr2\n",
      "chr3\n",
      "chr4\n",
      "chr5\n",
      "chr6\n",
      "chr7\n",
      "chr8\n",
      "chr9\n",
      "chr10\n",
      "chr11\n",
      "chr12\n",
      "chr13\n",
      "chr14\n",
      "chr15\n",
      "chr16\n",
      "chr17\n",
      "chr18\n",
      "chr19\n",
      "chr20\n",
      "chr21\n",
      "chr22\n",
      "chrX\n",
      "chrY\n"
     ]
    }
   ],
   "source": [
    "nonN_all_38=[]\n",
    "chrom_all_38=[]\n",
    "\n",
    "chroms= [\"chr\"+str(i) for i in range(1,23)]+[\"chrX\",\"chrY\"]\n",
    "for chrom in chroms:\n",
    "    for i in range(len(records_38)):\n",
    "        if records_38[i].id == chrom:\n",
    "            print(chrom)\n",
    "            rec= records_38[i].seq\n",
    "            collection = Counter(rec)\n",
    "            nonN=collection[\"a\"]+collection[\"t\"]+collection[\"c\"]+collection[\"g\"]+collection[\"A\"]+collection[\"T\"]+collection[\"C\"]+collection[\"G\"]\n",
    "            nonN_all_38.append(nonN)\n",
    "            break\n"
   ]
  },
  {
   "cell_type": "code",
   "execution_count": 31,
   "id": "659de46e",
   "metadata": {},
   "outputs": [],
   "source": [
    "from Bio import SeqIO\n",
    "folder = \"/Volumes/work/FritzLab/GIAB_project/\"\n",
    "records_t2t = list(SeqIO.parse(folder+\"chm13v2.0.fa\", \"fasta\"))\n"
   ]
  },
  {
   "cell_type": "code",
   "execution_count": null,
   "id": "f980f333",
   "metadata": {},
   "outputs": [],
   "source": []
  },
  {
   "cell_type": "code",
   "execution_count": 32,
   "id": "810325a3",
   "metadata": {},
   "outputs": [
    {
     "name": "stdout",
     "output_type": "stream",
     "text": [
      "chr1\n",
      "chr2\n",
      "chr3\n",
      "chr4\n",
      "chr5\n",
      "chr6\n",
      "chr7\n",
      "chr8\n",
      "chr9\n",
      "chr10\n",
      "chr11\n",
      "chr12\n",
      "chr13\n",
      "chr14\n",
      "chr15\n",
      "chr16\n",
      "chr17\n",
      "chr18\n",
      "chr19\n",
      "chr20\n",
      "chr21\n",
      "chr22\n",
      "chrX\n",
      "chrY\n"
     ]
    }
   ],
   "source": [
    "nonN_all_t2t=[]\n",
    "chroms= [\"chr\"+str(i) for i in range(1,23)]+[\"chrX\",\"chrY\"]\n",
    "for chrom in chroms:\n",
    "    for i in range(len(records_t2t)):\n",
    "        if records_t2t[i].id == chrom:\n",
    "            print(chrom)\n",
    "            rec= records_t2t[i].seq\n",
    "            collection = Counter(rec)\n",
    "            nonN=collection[\"a\"]+collection[\"t\"]+collection[\"c\"]+collection[\"g\"]+collection[\"A\"]+collection[\"T\"]+collection[\"C\"]+collection[\"G\"]\n",
    "            nonN_all_t2t.append(nonN)\n",
    "            break\n",
    "            \n",
    "\n"
   ]
  },
  {
   "cell_type": "code",
   "execution_count": null,
   "id": "cea18691",
   "metadata": {},
   "outputs": [],
   "source": [
    "a=3\n",
    "a"
   ]
  },
  {
   "cell_type": "code",
   "execution_count": 33,
   "id": "61224644",
   "metadata": {},
   "outputs": [
    {
     "name": "stdout",
     "output_type": "stream",
     "text": [
      "24 24 24 ['chr1', 'chr2', 'chr3', 'chr4', 'chr5', 'chr6', 'chr7', 'chr8', 'chr9', 'chr10', 'chr11', 'chr12', 'chr13', 'chr14', 'chr15', 'chr16', 'chr17', 'chr18', 'chr19', 'chr20', 'chr21', 'chr22', 'chrX', 'chrY']\n"
     ]
    },
    {
     "data": {
      "text/plain": [
       "([248387328, 242696752], [225280621, 238204518], [230481012, 240548228])"
      ]
     },
     "execution_count": 33,
     "metadata": {},
     "output_type": "execute_result"
    }
   ],
   "source": [
    "print(len(nonN_all_t2t),len(nonN_all_37),len(nonN_all_38), chroms ) \n",
    "nonN_all_t2t[:2],nonN_all_37[:2],nonN_all_38[:2]\n",
    "\n"
   ]
  },
  {
   "cell_type": "code",
   "execution_count": 4,
   "id": "b853925d",
   "metadata": {},
   "outputs": [
    {
     "ename": "NameError",
     "evalue": "name 'nonN_all_t2t' is not defined",
     "output_type": "error",
     "traceback": [
      "\u001b[0;31m---------------------------------------------------------------------------\u001b[0m",
      "\u001b[0;31mNameError\u001b[0m                                 Traceback (most recent call last)",
      "Input \u001b[0;32mIn [4]\u001b[0m, in \u001b[0;36m<cell line: 1>\u001b[0;34m()\u001b[0m\n\u001b[0;32m----> 1\u001b[0m values\u001b[38;5;241m=\u001b[39m(\u001b[43mnonN_all_t2t\u001b[49m,nonN_all_37,nonN_all_38, chroms) \n\u001b[1;32m      3\u001b[0m \u001b[38;5;28;01mimport\u001b[39;00m \u001b[38;5;21;01mpickle\u001b[39;00m\n\u001b[1;32m      5\u001b[0m \u001b[38;5;28;01mwith\u001b[39;00m \u001b[38;5;28mopen\u001b[39m(folder\u001b[38;5;241m+\u001b[39m\u001b[38;5;124m'\u001b[39m\u001b[38;5;124mreference_genome_len.pickle\u001b[39m\u001b[38;5;124m'\u001b[39m, \u001b[38;5;124m'\u001b[39m\u001b[38;5;124mwb\u001b[39m\u001b[38;5;124m'\u001b[39m) \u001b[38;5;28;01mas\u001b[39;00m handle:\n",
      "\u001b[0;31mNameError\u001b[0m: name 'nonN_all_t2t' is not defined"
     ]
    }
   ],
   "source": [
    "values=(nonN_all_t2t,nonN_all_37,nonN_all_38, chroms) \n",
    "\n",
    "import pickle\n",
    "\n",
    "with open(folder+'reference_genome_len.pickle', 'wb') as handle:\n",
    "    pickle.dump(values, handle, protocol=pickle.HIGHEST_PROTOCOL)\n",
    "\n"
   ]
  },
  {
   "cell_type": "code",
   "execution_count": null,
   "id": "f69242e0",
   "metadata": {},
   "outputs": [],
   "source": []
  },
  {
   "cell_type": "code",
   "execution_count": null,
   "id": "8b384ce2",
   "metadata": {},
   "outputs": [],
   "source": []
  },
  {
   "cell_type": "code",
   "execution_count": 20,
   "id": "f395861b",
   "metadata": {},
   "outputs": [],
   "source": [
    "\n",
    "with open(folder+'reference_genome_len.pickle', 'rb') as handle:\n",
    "    values = pickle.load(handle)\n",
    "(nonN_all_t2t,nonN_all_37,nonN_all_38, chroms) = values"
   ]
  },
  {
   "cell_type": "code",
   "execution_count": null,
   "id": "6a589a90",
   "metadata": {},
   "outputs": [],
   "source": []
  },
  {
   "cell_type": "code",
   "execution_count": 36,
   "id": "c2a9bb23",
   "metadata": {},
   "outputs": [
    {
     "ename": "NameError",
     "evalue": "name 'length_all_37_list' is not defined",
     "output_type": "error",
     "traceback": [
      "\u001b[0;31m---------------------------------------------------------------------------\u001b[0m",
      "\u001b[0;31mNameError\u001b[0m                                 Traceback (most recent call last)",
      "Input \u001b[0;32mIn [36]\u001b[0m, in \u001b[0;36m<cell line: 1>\u001b[0;34m()\u001b[0m\n\u001b[0;32m----> 1\u001b[0m ratio_37\u001b[38;5;241m=\u001b[39m [length_all_37_list[i]\u001b[38;5;241m/\u001b[39mnonN_all_37[i] \u001b[38;5;28;01mfor\u001b[39;00m i \u001b[38;5;129;01min\u001b[39;00m \u001b[38;5;28mrange\u001b[39m(\u001b[38;5;241m24\u001b[39m)]\n\u001b[1;32m      2\u001b[0m ratio_38\u001b[38;5;241m=\u001b[39m [length_all_38_list[i]\u001b[38;5;241m/\u001b[39mnonN_all_38[i] \u001b[38;5;28;01mfor\u001b[39;00m i \u001b[38;5;129;01min\u001b[39;00m \u001b[38;5;28mrange\u001b[39m(\u001b[38;5;241m24\u001b[39m)]\n\u001b[1;32m      3\u001b[0m ratio_t2t\u001b[38;5;241m=\u001b[39m [length_all_t2t_list[i]\u001b[38;5;241m/\u001b[39mnonN_all_t2t[i] \u001b[38;5;28;01mfor\u001b[39;00m i \u001b[38;5;129;01min\u001b[39;00m \u001b[38;5;28mrange\u001b[39m(\u001b[38;5;241m24\u001b[39m)]\n",
      "Input \u001b[0;32mIn [36]\u001b[0m, in \u001b[0;36m<listcomp>\u001b[0;34m(.0)\u001b[0m\n\u001b[0;32m----> 1\u001b[0m ratio_37\u001b[38;5;241m=\u001b[39m [\u001b[43mlength_all_37_list\u001b[49m[i]\u001b[38;5;241m/\u001b[39mnonN_all_37[i] \u001b[38;5;28;01mfor\u001b[39;00m i \u001b[38;5;129;01min\u001b[39;00m \u001b[38;5;28mrange\u001b[39m(\u001b[38;5;241m24\u001b[39m)]\n\u001b[1;32m      2\u001b[0m ratio_38\u001b[38;5;241m=\u001b[39m [length_all_38_list[i]\u001b[38;5;241m/\u001b[39mnonN_all_38[i] \u001b[38;5;28;01mfor\u001b[39;00m i \u001b[38;5;129;01min\u001b[39;00m \u001b[38;5;28mrange\u001b[39m(\u001b[38;5;241m24\u001b[39m)]\n\u001b[1;32m      3\u001b[0m ratio_t2t\u001b[38;5;241m=\u001b[39m [length_all_t2t_list[i]\u001b[38;5;241m/\u001b[39mnonN_all_t2t[i] \u001b[38;5;28;01mfor\u001b[39;00m i \u001b[38;5;129;01min\u001b[39;00m \u001b[38;5;28mrange\u001b[39m(\u001b[38;5;241m24\u001b[39m)]\n",
      "\u001b[0;31mNameError\u001b[0m: name 'length_all_37_list' is not defined"
     ]
    }
   ],
   "source": [
    "\n",
    "ratio_37= [length_all_37_list[i]/nonN_all_37[i] for i in range(24)]\n",
    "ratio_38= [length_all_38_list[i]/nonN_all_38[i] for i in range(24)]\n",
    "ratio_t2t= [length_all_t2t_list[i]/nonN_all_t2t[i] for i in range(24)]\n"
   ]
  },
  {
   "cell_type": "code",
   "execution_count": 110,
   "id": "cc2277ac",
   "metadata": {},
   "outputs": [
    {
     "data": {
      "text/plain": [
       "([230481012, 240548228, 198100135], [225280621, 238204518, 194797135])"
      ]
     },
     "execution_count": 110,
     "metadata": {},
     "output_type": "execute_result"
    }
   ],
   "source": [
    "nonN_all_38[:3],nonN_all_37[:3]"
   ]
  },
  {
   "cell_type": "code",
   "execution_count": 112,
   "id": "a356984b",
   "metadata": {},
   "outputs": [
    {
     "data": {
      "text/plain": [
       "([0.05649247122769606, 0.04625565918107397, 0.027924553407831176],\n",
       " [0.08570215319950088, 0.06474119194093585, 0.048931460849332586])"
      ]
     },
     "execution_count": 112,
     "metadata": {},
     "output_type": "execute_result"
    }
   ],
   "source": [
    "ratio_37[:3],ratio_38[:3]"
   ]
  },
  {
   "cell_type": "code",
   "execution_count": 113,
   "id": "fc4b6318",
   "metadata": {},
   "outputs": [
    {
     "data": {
      "text/plain": [
       "([12726659, 11018307], [19752719, 15573379])"
      ]
     },
     "execution_count": 113,
     "metadata": {},
     "output_type": "execute_result"
    }
   ],
   "source": [
    "length_all_37_list[:2],length_all_38_list[:2]"
   ]
  },
  {
   "cell_type": "code",
   "execution_count": null,
   "id": "b4f1ce86",
   "metadata": {},
   "outputs": [],
   "source": []
  },
  {
   "cell_type": "code",
   "execution_count": null,
   "id": "1e46e6c0",
   "metadata": {},
   "outputs": [],
   "source": []
  },
  {
   "cell_type": "markdown",
   "id": "f264dc40",
   "metadata": {},
   "source": [
    "# old"
   ]
  },
  {
   "cell_type": "code",
   "execution_count": null,
   "id": "41638e1a",
   "metadata": {},
   "outputs": [],
   "source": [
    "import numpy as np\n",
    "import matplotlib.pyplot as plt\n",
    "fig = plt.figure()\n",
    "ax = fig.add_axes([0,0,1,1])\n",
    "\n",
    "ax.bar(chroms[:22]+[23,24], length_all_37_list, color = 'b', width = 0.25, label=\"GRCh37\")\n",
    "ax.bar([i+0.25 for i in chroms[:22]+[23,24]], length_all_38_list, color = 'r', width = 0.25, label=\"GRCh38\")\n",
    "plt.legend()\n",
    "#plt.xticks([chroms[:22]+[23,24]])\n",
    "ax.set_xticks([1,5,10,15,20,22,23,24])\n",
    "ax.set_xticklabels([1,5,10,15,20,22,\"X\",\"Y\"])\n",
    "#ax.set_xticklabels(x)\n",
    "plt.xlim([0.5,24.5])\n",
    "plt.ylabel(\"Length of low mappability regions\")\n",
    "plt.xlabel(\"Chromsome\")\n",
    "#ax.bar(X + 0.25, data[1], color = 'g', width = 0.25)\n",
    "plt.savefig(\"low_mapp.pdf\", bbox_inches='tight')\n"
   ]
  },
  {
   "cell_type": "code",
   "execution_count": null,
   "id": "37d2708a",
   "metadata": {},
   "outputs": [],
   "source": [
    "# import numpy as np\n",
    "# import matplotlib.pyplot as plt\n",
    "# fig = plt.figure()\n",
    "# ax = fig.add_axes([0,0,1,1])\n",
    "\n",
    "# ax.bar(chroms[:22]+[23,24], length_all_37_list, color = 'b', width = 0.25, label=\"GRCh37\")\n",
    "# ax.bar([i+0.25 for i in chroms[:22]+[23,24]], length_all_38_list, color = 'r', width = 0.25, label=\"GRCh38\")\n",
    "# ax.bar([i+0.5 for i in chroms[:22]+[23,24]], length_all_t2t_list, color = 'g', width = 0.25, label=\"T2T-chm13\")\n",
    "\n",
    "# plt.legend()\n",
    "# #plt.xticks([chroms[:22]+[23,24]])\n",
    "# ax.set_xticks([1,5,10,15,20,22,23,24])\n",
    "# ax.set_xticklabels([1,5,10,15,20,22,\"X\",\"Y\"])\n",
    "# #ax.set_xticklabels(x)\n",
    "# plt.xlim([0.5,24.5])\n",
    "# plt.ylabel(\"Length of low mappability regions\")\n",
    "# plt.xlabel(\"Chromsome\")\n",
    "# #ax.bar(X + 0.25, data[1], color = 'g', width = 0.25)\n",
    "# plt.savefig(\"low_mapp3.pdf\", bbox_inches='tight')\n"
   ]
  },
  {
   "cell_type": "code",
   "execution_count": 139,
   "id": "96bf143e",
   "metadata": {},
   "outputs": [
    {
     "data": {
      "image/png": "[encoded data removed]",
      "text/plain": [
       "<Figure size 432x288 with 1 Axes>"
      ]
     },
     "metadata": {
      "needs_background": "light"
     },
     "output_type": "display_data"
    }
   ],
   "source": [
    "import numpy as np\n",
    "import matplotlib.pyplot as plt\n",
    "fig = plt.figure()\n",
    "ax = fig.add_axes([0,0,1,1])\n",
    "\n",
    "\n",
    "ax.bar(range(1,25), ratio_37, color = 'b', width = 0.25, label=\"GRCh37\")\n",
    "ax.bar([i+0.25 for i in range(1,25)], ratio_38, color = 'r', width = 0.25, label=\"GRCh38\")\n",
    "ax.bar([i+0.5 for i in range(1,25)], ratio_t2t, color = 'g', width = 0.25, label=\"T2T-chm13\")\n",
    "\n",
    "\n",
    "plt.legend()\n",
    "#plt.xticks([chroms[:22]+[23,24]])\n",
    "ax.set_xticks([1,5,10,15,20,22,23,24])\n",
    "ax.set_xticklabels([1,5,10,15,20,22,\"X\",\"Y\"])\n",
    "#ax.set_xticklabels(x)\n",
    "plt.xlim([0.5,24.5])\n",
    "plt.ylabel(\"Ratio of low mappability region length over known bases\")\n",
    "plt.xlabel(\"Chromsome\")\n",
    "#ax.bar(X + 0.25, data[1], color = 'g', width = 0.25)\n",
    "plt.savefig(\"low_mapp_ratio3.pdf\", bbox_inches='tight')\n"
   ]
  },
  {
   "cell_type": "code",
   "execution_count": null,
   "id": "978f9836",
   "metadata": {},
   "outputs": [],
   "source": []
  },
  {
   "cell_type": "code",
   "execution_count": null,
   "id": "47610c0f",
   "metadata": {},
   "outputs": [],
   "source": []
  },
  {
   "cell_type": "markdown",
   "id": "3f945e1e",
   "metadata": {},
   "source": [
    "## CDS"
   ]
  },
  {
   "cell_type": "code",
   "execution_count": 114,
   "id": "5397db77",
   "metadata": {},
   "outputs": [],
   "source": [
    "file_ad= folder+ \"nistzip_GRCh37/FunctionalRegions/GRCh37_refseq_cds.bed\"\n",
    "cds_length_37= bed2length_all(file_ad)\n",
    "\n",
    "file_ad= folder+ \"nistzip_GRCh38/FunctionalRegions/GRCh38_refseq_cds.bed\"\n",
    "cds_length_38= bed2length_all(file_ad)\n",
    "\n",
    "\n",
    "file_ad= \"/Volumes/work/FritzLab/GIAB_project/nist-grex/S3-gene-coding/data/T2T-CHM13v2.0_refseq_cds_merged.bed\"\n",
    "cds_length_t2t= bed2length_all(file_ad)\n",
    "\n",
    "\n",
    "chroms= list(range(1,23))+[\"X\",\"Y\"]\n",
    "cds_length_37_list = []\n",
    "cds_length_38_list = []\n",
    "cds_length_t2t_list = []\n",
    "for chrom in chroms:\n",
    "    cds_length_37_list.append(cds_length_37[str(chrom)])\n",
    "    cds_length_38_list.append(cds_length_38[\"chr\"+str(chrom)])\n",
    "    cds_length_t2t_list.append(cds_length_t2t[str(chrom)])\n",
    "\n",
    "    \n",
    "len(cds_length_37_list), len(chroms[:22]+[23,24])#, chroms[:22]+[23,24]\n",
    "\n",
    "\n",
    "cds_ratio_37=  [100* cds_length_37_list[i]/nonN_all_37[i]   for i in range(24)]\n",
    "cds_ratio_38=  [100* cds_length_38_list[i]/nonN_all_38[i]   for i in range(24)]\n",
    "cds_ratio_t2t= [100* cds_length_t2t_list[i]/nonN_all_t2t[i] for i in range(24)]\n"
   ]
  },
  {
   "cell_type": "code",
   "execution_count": 146,
   "id": "6e7547ec",
   "metadata": {},
   "outputs": [
    {
     "data": {
      "image/png": "[encoded data removed]",
      "text/plain": [
       "<Figure size 432x288 with 1 Axes>"
      ]
     },
     "metadata": {
      "needs_background": "light"
     },
     "output_type": "display_data"
    }
   ],
   "source": [
    "import numpy as np\n",
    "import matplotlib.pyplot as plt\n",
    "fig = plt.figure()\n",
    "ax = fig.add_axes([0,0,1,1])\n",
    "\n",
    "\n",
    "ax.bar(range(1,25),                    cds_length_37_list, color = 'b', width = 0.25, label=\"GRCh37\")\n",
    "\n",
    "ax.bar([i+0.25 for i in range(1,25)],  cds_length_38_list, color = 'r', width = 0.25, label=\"GRCh38\")\n",
    "ax.bar([i+ 0.5 for i in range(1,25)],  cds_length_t2t_list, color = 'g', width = 0.25, label=\"T2T-chm13\")\n",
    "\n",
    "\n",
    "plt.legend()\n",
    "#plt.xticks([chroms[:22]+[23,24]])\n",
    "ax.set_xticks([1,5,10,15,20,22,23,24])\n",
    "ax.set_xticklabels([1,5,10,15,20,22,\"X\",\"Y\"])\n",
    "\n",
    "plt.xlim([0.5,24.5])\n",
    "plt.ylabel(\"CDS region length\")\n",
    "plt.xlabel(\"Chromsome\")\n",
    "plt.savefig(\"cds_1.pdf\", bbox_inches='tight')\n"
   ]
  },
  {
   "cell_type": "code",
   "execution_count": 147,
   "id": "552f3e4d",
   "metadata": {},
   "outputs": [
    {
     "data": {
      "image/png": "[encoded data removed]",
      "text/plain": [
       "<Figure size 432x288 with 1 Axes>"
      ]
     },
     "metadata": {
      "needs_background": "light"
     },
     "output_type": "display_data"
    }
   ],
   "source": [
    "import numpy as np\n",
    "import matplotlib.pyplot as plt\n",
    "fig = plt.figure()\n",
    "ax = fig.add_axes([0,0,1,1])\n",
    "\n",
    "\n",
    "ax.bar(range(1,25),                   cds_ratio_37,  color = 'b', width = 0.25, label=\"GRCh37\")\n",
    "\n",
    "ax.bar([i+0.25 for i in range(1,25)], cds_ratio_38,  color = 'r', width = 0.25, label=\"GRCh38\")\n",
    "ax.bar([i+ 0.5 for i in range(1,25)], cds_ratio_t2t, color = 'g', width = 0.25, label=\"T2T-chm13\")\n",
    "\n",
    "\n",
    "plt.legend()\n",
    "#plt.xticks([chroms[:22]+[23,24]])\n",
    "ax.set_xticks([1,5,10,15,20,22,23,24])\n",
    "ax.set_xticklabels([1,5,10,15,20,22,\"X\",\"Y\"])\n",
    "\n",
    "plt.xlim([0.5,24.5])\n",
    "plt.ylabel(\"CDS ratio\")\n",
    "plt.xlabel(\"Chromsome\")\n",
    "plt.savefig(\"cds_ratio_1.pdf\", bbox_inches='tight')\n"
   ]
  },
  {
   "cell_type": "code",
   "execution_count": null,
   "id": "d262d971",
   "metadata": {},
   "outputs": [],
   "source": []
  },
  {
   "cell_type": "code",
   "execution_count": null,
   "id": "951eedef",
   "metadata": {},
   "outputs": [],
   "source": []
  },
  {
   "cell_type": "markdown",
   "id": "15637cca",
   "metadata": {},
   "source": [
    "## adotto "
   ]
  },
  {
   "cell_type": "code",
   "execution_count": 2,
   "id": "d3d53b9d",
   "metadata": {},
   "outputs": [],
   "source": [
    "file_ad = \"/Volumes/work/FritzLab/GIAB_project/nist-grex/S5-tr-adotto/data/adotto_TRRegions_Annos.bed\""
   ]
  },
  {
   "cell_type": "code",
   "execution_count": 6,
   "id": "0d3e58b3",
   "metadata": {},
   "outputs": [],
   "source": [
    "adotto= bed2length_all(file_ad)"
   ]
  },
  {
   "cell_type": "code",
   "execution_count": 12,
   "id": "32e5fcc7",
   "metadata": {},
   "outputs": [
    {
     "data": {
      "text/plain": [
       "(24, 24)"
      ]
     },
     "execution_count": 12,
     "metadata": {},
     "output_type": "execute_result"
    }
   ],
   "source": [
    "chroms= list(range(1,23))+[\"X\",\"Y\"]\n",
    "adotto_list = []\n",
    "for chrom in chroms:\n",
    "    adotto_list.append(adotto[\"chr\"+str(chrom)])\n",
    "\n",
    "    \n",
    "len(adotto_list), len(chroms[:22]+[23,24])#, chroms[:22]+[23,24]\n",
    "\n"
   ]
  },
  {
   "cell_type": "code",
   "execution_count": null,
   "id": "efc6bd9d",
   "metadata": {},
   "outputs": [],
   "source": []
  },
  {
   "cell_type": "code",
   "execution_count": 14,
   "id": "8ce99d60",
   "metadata": {},
   "outputs": [
    {
     "name": "stderr",
     "output_type": "stream",
     "text": [
      "No handles with labels found to put in legend.\n"
     ]
    },
    {
     "data": {
      "image/png": "[encoded data removed]",
      "text/plain": [
       "<Figure size 432x288 with 1 Axes>"
      ]
     },
     "metadata": {
      "needs_background": "light"
     },
     "output_type": "display_data"
    }
   ],
   "source": [
    "import numpy as np\n",
    "import matplotlib.pyplot as plt\n",
    "fig = plt.figure()\n",
    "ax = fig.add_axes([0,0,1,1])\n",
    "\n",
    "\n",
    "ax.bar(range(1,25), adotto_list,  color = 'b', width = 0.25) # , label=\"GRCh37\"\n",
    "\n",
    "\n",
    "plt.legend()\n",
    "#plt.xticks([chroms[:22]+[23,24]])\n",
    "ax.set_xticks([1,5,10,15,20,22,23,24])\n",
    "ax.set_xticklabels([1,5,10,15,20,22,\"X\",\"Y\"])\n",
    "\n",
    "plt.xlim([0.5,24.5])\n",
    "plt.ylabel(\"length\")\n",
    "plt.xlabel(\"Chromsome\")\n",
    "plt.savefig(\"adotto_len_1.pdf\", bbox_inches='tight')\n"
   ]
  },
  {
   "cell_type": "code",
   "execution_count": 3,
   "id": "58e2f7b8",
   "metadata": {},
   "outputs": [],
   "source": [
    "bed_all = []\n",
    "with open(file_ad,'r') as file:\n",
    "    for line in file:\n",
    "        line_split=line.strip().split(\"\\t\")\n",
    "        # ['Y', '59033775', '59034050']\n",
    "        #chrom,start,end=line_split\n",
    "        bed_all.append(line_split)\n"
   ]
  },
  {
   "cell_type": "code",
   "execution_count": 4,
   "id": "8393f3b3",
   "metadata": {},
   "outputs": [
    {
     "data": {
      "text/plain": [
       "['chrom',\n",
       " 'start',\n",
       " 'end',\n",
       " 'period',\n",
       " 'copies',\n",
       " 'score',\n",
       " 'entropy',\n",
       " 'repeat',\n",
       " 'A',\n",
       " 'C',\n",
       " 'G',\n",
       " 'T',\n",
       " 'pctmat',\n",
       " 'pctindel']"
      ]
     },
     "execution_count": 4,
     "metadata": {},
     "output_type": "execute_result"
    }
   ],
   "source": [
    "bed_all[0],bed_all[1]"
   ]
  },
  {
   "cell_type": "code",
   "execution_count": 26,
   "id": "718dee81",
   "metadata": {},
   "outputs": [],
   "source": [
    "entropy_all = [float(i[6]) for i in bed_all[1:]]\n"
   ]
  },
  {
   "cell_type": "code",
   "execution_count": 27,
   "id": "904f2014",
   "metadata": {},
   "outputs": [
    {
     "data": {
      "text/plain": [
       "(1581539, 2.0, 0.0)"
      ]
     },
     "execution_count": 27,
     "metadata": {},
     "output_type": "execute_result"
    }
   ],
   "source": [
    "len(entropy_all),max(entropy_all),min(entropy_all)"
   ]
  },
  {
   "cell_type": "code",
   "execution_count": 28,
   "id": "6a05ff63",
   "metadata": {},
   "outputs": [
    {
     "data": {
      "image/png": "[encoded data removed]",
      "text/plain": [
       "<Figure size 432x288 with 1 Axes>"
      ]
     },
     "metadata": {
      "needs_background": "light"
     },
     "output_type": "display_data"
    }
   ],
   "source": [
    "plt.hist(entropy_all,50) # , density=True, facecolor='g', alpha=0.75\n",
    "\n",
    "\n",
    "plt.xlabel('Entropy')\n",
    "plt.ylabel('Frequency')\n",
    "plt.xticks([0.1,0.5,1,1.5,2])\n",
    "\n",
    "#plt.title('Histogram of IQ')\n",
    "#plt.text(60, .025, r'$\\mu=100,\\ \\sigma=15$')\n",
    "#plt.xlim(40, 160)\n",
    "#plt.ylim(0, 0.03)\n",
    "#plt.grid(True)\n",
    "#plt.show()\n",
    "plt.savefig(\"adotto_hist_1.pdf\", bbox_inches='tight')\n"
   ]
  },
  {
   "cell_type": "code",
   "execution_count": null,
   "id": "99f49fc0",
   "metadata": {},
   "outputs": [],
   "source": []
  },
  {
   "cell_type": "code",
   "execution_count": null,
   "id": "16c19e31",
   "metadata": {},
   "outputs": [],
   "source": []
  },
  {
   "cell_type": "code",
   "execution_count": null,
   "id": "92f18aef",
   "metadata": {},
   "outputs": [],
   "source": []
  },
  {
   "cell_type": "markdown",
   "id": "19fd78ef",
   "metadata": {},
   "source": [
    "## GC "
   ]
  },
  {
   "cell_type": "code",
   "execution_count": null,
   "id": "b9ecdc80",
   "metadata": {},
   "outputs": [],
   "source": []
  },
  {
   "cell_type": "code",
   "execution_count": 14,
   "id": "228e1e69",
   "metadata": {},
   "outputs": [],
   "source": [
    "file_ad= \"/Volumes/work/FritzLab/GIAB_project/gc_out/CHM13_l100_gc85_slop50.bed\"\n",
    "gc= bed2length_all(file_ad)\n",
    "file_ad= \"/Volumes/work/FritzLab/GIAB_project/nistzip_GRCh37/GCcontent/GRCh37_gc85_slop50.bed\"\n",
    "gc_37= bed2length_all(file_ad)\n",
    "file_ad= \"/Volumes/work/FritzLab/GIAB_project/nistzip_GRCh38/GCcontent/GRCh38_gc85_slop50.bed\"\n",
    "gc_38= bed2length_all(file_ad)\n",
    "\n",
    "chroms= list(range(1,23))+[\"X\"] # ,\"Y\"]\n",
    "gc_t2_list = []\n",
    "gc_37_list = []\n",
    "gc_38_list = []\n",
    "\n",
    "for chrom in chroms:\n",
    "    gc_t2_list.append(gc[\"chr\"+str(chrom)])\n",
    "    gc_37_list.append(gc_37[str(chrom)])\n",
    "    gc_38_list.append(gc_38[\"chr\"+str(chrom)])\n",
    "\n",
    "    \n",
    "len(gc_38_list), len(chroms[:22]+[23])#, chroms[:22]+[23,24]\n",
    "\n"
   ]
  },
  {
   "cell_type": "code",
   "execution_count": 15,
   "id": "71e4de10",
   "metadata": {},
   "outputs": [],
   "source": []
  },
  {
   "cell_type": "code",
   "execution_count": 18,
   "id": "ed53d9cc",
   "metadata": {},
   "outputs": [
    {
     "data": {
      "text/plain": [
       "(23, 23)"
      ]
     },
     "execution_count": 18,
     "metadata": {},
     "output_type": "execute_result"
    }
   ],
   "source": []
  },
  {
   "cell_type": "code",
   "execution_count": 23,
   "id": "0849fea0",
   "metadata": {},
   "outputs": [
    {
     "data": {
      "text/plain": [
       "(10959, 204481)"
      ]
     },
     "execution_count": 23,
     "metadata": {},
     "output_type": "execute_result"
    }
   ],
   "source": [
    "gc_38_list[12], gc_t2_list[12]"
   ]
  },
  {
   "cell_type": "code",
   "execution_count": null,
   "id": "9c46ef75",
   "metadata": {},
   "outputs": [],
   "source": []
  },
  {
   "cell_type": "code",
   "execution_count": null,
   "id": "a9724154",
   "metadata": {},
   "outputs": [],
   "source": []
  },
  {
   "cell_type": "code",
   "execution_count": null,
   "id": "3794da8d",
   "metadata": {},
   "outputs": [],
   "source": []
  },
  {
   "cell_type": "code",
   "execution_count": null,
   "id": "19554af4",
   "metadata": {},
   "outputs": [],
   "source": []
  },
  {
   "cell_type": "code",
   "execution_count": 40,
   "id": "611b38cc",
   "metadata": {},
   "outputs": [
    {
     "data": {
      "image/png": "[encoded data removed]",
      "text/plain": [
       "<Figure size 432x288 with 1 Axes>"
      ]
     },
     "metadata": {
      "needs_background": "light"
     },
     "output_type": "display_data"
    }
   ],
   "source": [
    "import numpy as np\n",
    "import matplotlib.pyplot as plt\n",
    "fig = plt.figure()\n",
    "ax = fig.add_axes([0,0,1,1])\n",
    "\n",
    "\n",
    "ax.bar(range(1,24),                   gc_37_list,  color = 'b', width = 0.25, label=\"GRCh37\")\n",
    "ax.bar([i+0.25 for i in range(1,24)], gc_38_list,  color = 'r', width = 0.25, label=\"GRCh38\")\n",
    "ax.bar([i+ 0.5 for i in range(1,24)], gc_t2_list, color = 'g', width = 0.25, label=\"T2T-chm13\")\n",
    "\n",
    "\n",
    "plt.legend()\n",
    "#plt.xticks([chroms[:22]+[23,24]])\n",
    "ax.set_xticks([1,5,10,15,20,22,23])\n",
    "ax.set_xticklabels([1,5,10,15,20,22,\"X\"])\n",
    "\n",
    "plt.xlim([0.5,24.5])\n",
    "plt.ylabel(\"Length of GC regions\")\n",
    "plt.xlabel(\"Chromsome\")\n",
    "plt.savefig(\"GC_85_1.pdf\", bbox_inches='tight')\n"
   ]
  },
  {
   "cell_type": "code",
   "execution_count": 37,
   "id": "ea7d2cb5",
   "metadata": {},
   "outputs": [],
   "source": [
    "\n",
    "gc_ratio_37=  [gc_37_list[i]/nonN_all_37[i]   for i in range(23)] # no chr Y\n",
    "gc_ratio_38=  [gc_38_list[i]/nonN_all_38[i]   for i in range(23)] # no chr Y\n",
    "gc_ratio_t2 = [gc_t2_list[i]/nonN_all_t2t[i] for i in range(23)] # no chr Y\n"
   ]
  },
  {
   "cell_type": "code",
   "execution_count": 39,
   "id": "afcaecdf",
   "metadata": {},
   "outputs": [
    {
     "data": {
      "image/png": "[encoded data removed]",
      "text/plain": [
       "<Figure size 432x288 with 1 Axes>"
      ]
     },
     "metadata": {
      "needs_background": "light"
     },
     "output_type": "display_data"
    }
   ],
   "source": [
    "import numpy as np\n",
    "import matplotlib.pyplot as plt\n",
    "fig = plt.figure()\n",
    "ax = fig.add_axes([0,0,1,1])\n",
    "\n",
    "\n",
    "ax.bar(range(1,24),                   gc_ratio_37,  color = 'b', width = 0.25, label=\"GRCh37\")\n",
    "ax.bar([i+0.25 for i in range(1,24)], gc_ratio_38,  color = 'r', width = 0.25, label=\"GRCh38\")\n",
    "ax.bar([i+ 0.5 for i in range(1,24)], gc_ratio_t2, color = 'g', width = 0.25, label=\"T2T-chm13\")\n",
    "\n",
    "\n",
    "plt.legend()\n",
    "#plt.xticks([chroms[:22]+[23,24]])\n",
    "ax.set_xticks([1,5,10,15,20,22,23])\n",
    "ax.set_xticklabels([1,5,10,15,20,22,\"X\"])\n",
    "\n",
    "plt.xlim([0.5,24.5])\n",
    "plt.ylabel(\"Ratio of length of GC regions over chr length\")\n",
    "plt.xlabel(\"Chromsome\")\n",
    "plt.savefig(\"GC_85_ratio_1.pdf\", bbox_inches='tight')\n"
   ]
  },
  {
   "cell_type": "code",
   "execution_count": null,
   "id": "ee26e4fa",
   "metadata": {},
   "outputs": [],
   "source": []
  },
  {
   "cell_type": "code",
   "execution_count": null,
   "id": "9e174284",
   "metadata": {},
   "outputs": [],
   "source": []
  },
  {
   "cell_type": "code",
   "execution_count": 11,
   "id": "08549a9f",
   "metadata": {},
   "outputs": [],
   "source": [
    "file_ad= \"/Volumes/work/FritzLab/GIAB_project/gc_out/CHM13_l100_gc20to25_slop50.bed\"\n",
    "gc= bed2length_all(file_ad)\n",
    "\n",
    "\n",
    "file_ad= \"/Volumes/work/FritzLab/GIAB_project/nistzip_GRCh37/GCcontent/GRCh37_gc20to25_slop50.bed\"\n",
    "gc_37= bed2length_all(file_ad)\n",
    "file_ad= \"/Volumes/work/FritzLab/GIAB_project/nistzip_GRCh38/GCcontent/GRCh38_gc20to25_slop50.bed\"\n",
    "gc_38= bed2length_all(file_ad)"
   ]
  },
  {
   "cell_type": "code",
   "execution_count": 12,
   "id": "ded59767",
   "metadata": {},
   "outputs": [
    {
     "data": {
      "text/plain": [
       "(23, 23)"
      ]
     },
     "execution_count": 12,
     "metadata": {},
     "output_type": "execute_result"
    }
   ],
   "source": [
    "chroms= list(range(1,23))+[\"X\"] # ,\"Y\"]\n",
    "gc_t2_list = []\n",
    "gc_37_list = []\n",
    "gc_38_list = []\n",
    "\n",
    "for chrom in chroms:\n",
    "    gc_t2_list.append(gc[\"chr\"+str(chrom)])\n",
    "    gc_37_list.append(gc_37[str(chrom)])\n",
    "    gc_38_list.append(gc_38[\"chr\"+str(chrom)])\n",
    "\n",
    "    \n",
    "len(gc_t2_list), len(chroms[:22]+[23])#, chroms[:22]+[23,24]\n",
    "\n"
   ]
  },
  {
   "cell_type": "code",
   "execution_count": 14,
   "id": "d0f61e0e",
   "metadata": {},
   "outputs": [
    {
     "data": {
      "image/png": "[encoded data removed]",
      "text/plain": [
       "<Figure size 432x288 with 1 Axes>"
      ]
     },
     "metadata": {
      "needs_background": "light"
     },
     "output_type": "display_data"
    }
   ],
   "source": [
    "import numpy as np\n",
    "import matplotlib.pyplot as plt\n",
    "fig = plt.figure()\n",
    "ax = fig.add_axes([0,0,1,1])\n",
    "\n",
    "\n",
    "ax.bar(range(1,24),                   gc_37_list,  color = 'b', width = 0.25, label=\"GRCh37\")\n",
    "ax.bar([i+0.25 for i in range(1,24)], gc_38_list,  color = 'r', width = 0.25, label=\"GRCh38\")\n",
    "ax.bar([i+ 0.5 for i in range(1,24)], gc_t2_list, color = 'g', width = 0.25, label=\"T2T-chm13\")\n",
    "\n",
    "\n",
    "plt.legend()\n",
    "#plt.xticks([chroms[:22]+[23,24]])\n",
    "ax.set_xticks([1,5,10,15,20,22,23])\n",
    "ax.set_xticklabels([1,5,10,15,20,22,\"X\"])\n",
    "\n",
    "plt.xlim([0.5,24.5])\n",
    "plt.ylabel(\"Length of GC regions\")\n",
    "plt.xlabel(\"Chromsome\")\n",
    "plt.savefig(\"GC_20_25.pdf\", bbox_inches='tight')\n"
   ]
  },
  {
   "cell_type": "code",
   "execution_count": 9,
   "id": "10a47c08",
   "metadata": {},
   "outputs": [],
   "source": [
    "\n",
    "with open(folder+'reference_genome_len.pickle', 'rb') as handle:\n",
    "    values = pickle.load(handle)\n",
    "(nonN_all_t2t,nonN_all_37,nonN_all_38, chroms) = values\n"
   ]
  },
  {
   "cell_type": "code",
   "execution_count": 10,
   "id": "dc461410",
   "metadata": {},
   "outputs": [
    {
     "data": {
      "text/plain": [
       "(113566686, 97983125)"
      ]
     },
     "execution_count": 10,
     "metadata": {},
     "output_type": "execute_result"
    }
   ],
   "source": [
    "nonN_all_t2t[12], nonN_all_38[12]"
   ]
  },
  {
   "cell_type": "code",
   "execution_count": null,
   "id": "8bb9a73a",
   "metadata": {},
   "outputs": [],
   "source": []
  },
  {
   "cell_type": "code",
   "execution_count": null,
   "id": "dc157950",
   "metadata": {},
   "outputs": [],
   "source": []
  },
  {
   "cell_type": "code",
   "execution_count": 13,
   "id": "58339941",
   "metadata": {},
   "outputs": [],
   "source": [
    "\n",
    "gc_ratio_37=  [gc_37_list[i]/nonN_all_37[i]   for i in range(23)] # no chr Y\n",
    "gc_ratio_38=  [gc_38_list[i]/nonN_all_38[i]   for i in range(23)] # no chr Y\n",
    "gc_ratio_t2 = [gc_t2_list[i]/nonN_all_t2t[i] for i in range(23)] # no chr Y\n"
   ]
  },
  {
   "cell_type": "code",
   "execution_count": 17,
   "id": "da070fe7",
   "metadata": {},
   "outputs": [
    {
     "data": {
      "image/png": "[encoded data removed]",
      "text/plain": [
       "<Figure size 432x288 with 1 Axes>"
      ]
     },
     "metadata": {
      "needs_background": "light"
     },
     "output_type": "display_data"
    }
   ],
   "source": [
    "import numpy as np\n",
    "import matplotlib.pyplot as plt\n",
    "fig = plt.figure()\n",
    "ax = fig.add_axes([0,0,1,1])\n",
    "\n",
    "\n",
    "ax.bar(range(1,24),                   gc_ratio_37,  color = 'b', width = 0.25, label=\"GRCh37\")\n",
    "ax.bar([i+0.25 for i in range(1,24)], gc_ratio_38,  color = 'r', width = 0.25, label=\"GRCh38\")\n",
    "ax.bar([i+ 0.5 for i in range(1,24)], gc_ratio_t2, color = 'g', width = 0.25, label=\"T2T-chm13\")\n",
    "\n",
    "\n",
    "plt.legend()\n",
    "#plt.xticks([chroms[:22]+[23,24]])\n",
    "ax.set_xticks([1,5,10,15,20,22,23])\n",
    "ax.set_xticklabels([1,5,10,15,20,22,\"X\"])\n",
    "\n",
    "plt.xlim([0.5,24.5])\n",
    "plt.ylabel(\"Ratio of length of GC regions over chr length\")\n",
    "plt.xlabel(\"Chromsome\")\n",
    "plt.savefig(\"GC_20_25_ratio.pdf\", bbox_inches='tight')\n"
   ]
  },
  {
   "cell_type": "code",
   "execution_count": null,
   "id": "4d3e3242",
   "metadata": {},
   "outputs": [],
   "source": []
  }
 ],
 "metadata": {
  "kernelspec": {
   "display_name": "Python 3",
   "language": "python",
   "name": "python3"
  },
  "language_info": {
   "codemirror_mode": {
    "name": "ipython",
    "version": 3
   },
   "file_extension": ".py",
   "mimetype": "text/x-python",
   "name": "python",
   "nbconvert_exporter": "python",
   "pygments_lexer": "ipython3",
   "version": "3.9.12"
  }
 },
 "nbformat": 4,
 "nbformat_minor": 5
}
